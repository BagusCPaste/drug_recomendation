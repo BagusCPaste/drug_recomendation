{
 "cells": [
  {
   "cell_type": "code",
   "execution_count": 1,
   "id": "94b98971",
   "metadata": {},
   "outputs": [
    {
     "name": "stderr",
     "output_type": "stream",
     "text": [
      "[nltk_data] Downloading package stopwords to\n",
      "[nltk_data]     C:\\Users\\user\\AppData\\Roaming\\nltk_data...\n",
      "[nltk_data]   Package stopwords is already up-to-date!\n"
     ]
    }
   ],
   "source": [
    "import pandas as pd\n",
    "import numpy as np\n",
    "import warnings\n",
    "from sklearn.feature_extraction.text import TfidfVectorizer\n",
    "from sklearn.metrics.pairwise import cosine_similarity\n",
    "import re\n",
    "\n",
    "warnings.filterwarnings(\"ignore\")\n",
    "\n",
    "import nltk\n",
    "nltk.download('stopwords')\n",
    "\n",
    "import regex as re\n",
    "from tqdm import tqdm\n",
    "from nltk.corpus import stopwords\n",
    "from nltk.stem.snowball import SnowballStemmer"
   ]
  },
  {
   "cell_type": "code",
   "execution_count": 2,
   "id": "2c8142ab",
   "metadata": {},
   "outputs": [
    {
     "data": {
      "text/html": [
       "<div>\n",
       "<style scoped>\n",
       "    .dataframe tbody tr th:only-of-type {\n",
       "        vertical-align: middle;\n",
       "    }\n",
       "\n",
       "    .dataframe tbody tr th {\n",
       "        vertical-align: top;\n",
       "    }\n",
       "\n",
       "    .dataframe thead th {\n",
       "        text-align: right;\n",
       "    }\n",
       "</style>\n",
       "<table border=\"1\" class=\"dataframe\">\n",
       "  <thead>\n",
       "    <tr style=\"text-align: right;\">\n",
       "      <th></th>\n",
       "      <th>uniqueID</th>\n",
       "      <th>drugName</th>\n",
       "      <th>condition</th>\n",
       "      <th>review</th>\n",
       "      <th>rating</th>\n",
       "      <th>date</th>\n",
       "      <th>usefulCount</th>\n",
       "      <th>clean_review</th>\n",
       "      <th>skor_sentimen</th>\n",
       "      <th>sentimen</th>\n",
       "      <th>recommendation_score</th>\n",
       "    </tr>\n",
       "  </thead>\n",
       "  <tbody>\n",
       "    <tr>\n",
       "      <th>0</th>\n",
       "      <td>206461</td>\n",
       "      <td>valsartan</td>\n",
       "      <td>left ventricular dysfunction</td>\n",
       "      <td>\"It has no side effect, I take it in combinati...</td>\n",
       "      <td>9</td>\n",
       "      <td>20-May-12</td>\n",
       "      <td>0.020914</td>\n",
       "      <td>no side effect take combin bystol mg fish oil</td>\n",
       "      <td>-0.2960</td>\n",
       "      <td>0</td>\n",
       "      <td>0.000000</td>\n",
       "    </tr>\n",
       "    <tr>\n",
       "      <th>1</th>\n",
       "      <td>95260</td>\n",
       "      <td>guanfacine</td>\n",
       "      <td>adhd</td>\n",
       "      <td>\"My son is halfway through his fourth week of ...</td>\n",
       "      <td>8</td>\n",
       "      <td>27-Apr-10</td>\n",
       "      <td>0.148722</td>\n",
       "      <td>son halfway fourth week intuniv becam concern ...</td>\n",
       "      <td>0.6929</td>\n",
       "      <td>1</td>\n",
       "      <td>0.148722</td>\n",
       "    </tr>\n",
       "    <tr>\n",
       "      <th>2</th>\n",
       "      <td>92703</td>\n",
       "      <td>lybrel</td>\n",
       "      <td>birth control</td>\n",
       "      <td>\"I used to take another oral contraceptive, wh...</td>\n",
       "      <td>5</td>\n",
       "      <td>14-Dec-09</td>\n",
       "      <td>0.013168</td>\n",
       "      <td>use take anoth oral contracept pill cycl happi...</td>\n",
       "      <td>0.2732</td>\n",
       "      <td>1</td>\n",
       "      <td>0.013168</td>\n",
       "    </tr>\n",
       "    <tr>\n",
       "      <th>3</th>\n",
       "      <td>138000</td>\n",
       "      <td>ortho evra</td>\n",
       "      <td>birth control</td>\n",
       "      <td>\"This is my first time using any form of birth...</td>\n",
       "      <td>8</td>\n",
       "      <td>3-Nov-15</td>\n",
       "      <td>0.007746</td>\n",
       "      <td>first time use form birth control glad went pa...</td>\n",
       "      <td>0.1027</td>\n",
       "      <td>1</td>\n",
       "      <td>0.007746</td>\n",
       "    </tr>\n",
       "    <tr>\n",
       "      <th>4</th>\n",
       "      <td>35696</td>\n",
       "      <td>buprenorphine / naloxone</td>\n",
       "      <td>opiate dependence</td>\n",
       "      <td>\"Suboxone has completely turned my life around...</td>\n",
       "      <td>9</td>\n",
       "      <td>27-Nov-16</td>\n",
       "      <td>0.028660</td>\n",
       "      <td>suboxon complet turn life around feel healthie...</td>\n",
       "      <td>0.8934</td>\n",
       "      <td>1</td>\n",
       "      <td>0.028660</td>\n",
       "    </tr>\n",
       "  </tbody>\n",
       "</table>\n",
       "</div>"
      ],
      "text/plain": [
       "   uniqueID                  drugName                     condition  \\\n",
       "0    206461                 valsartan  left ventricular dysfunction   \n",
       "1     95260                guanfacine                          adhd   \n",
       "2     92703                    lybrel                 birth control   \n",
       "3    138000                ortho evra                 birth control   \n",
       "4     35696  buprenorphine / naloxone             opiate dependence   \n",
       "\n",
       "                                              review  rating       date  \\\n",
       "0  \"It has no side effect, I take it in combinati...       9  20-May-12   \n",
       "1  \"My son is halfway through his fourth week of ...       8  27-Apr-10   \n",
       "2  \"I used to take another oral contraceptive, wh...       5  14-Dec-09   \n",
       "3  \"This is my first time using any form of birth...       8   3-Nov-15   \n",
       "4  \"Suboxone has completely turned my life around...       9  27-Nov-16   \n",
       "\n",
       "   usefulCount                                       clean_review  \\\n",
       "0     0.020914     no side effect take combin bystol mg fish oil    \n",
       "1     0.148722  son halfway fourth week intuniv becam concern ...   \n",
       "2     0.013168  use take anoth oral contracept pill cycl happi...   \n",
       "3     0.007746  first time use form birth control glad went pa...   \n",
       "4     0.028660  suboxon complet turn life around feel healthie...   \n",
       "\n",
       "   skor_sentimen  sentimen  recommendation_score  \n",
       "0        -0.2960         0              0.000000  \n",
       "1         0.6929         1              0.148722  \n",
       "2         0.2732         1              0.013168  \n",
       "3         0.1027         1              0.007746  \n",
       "4         0.8934         1              0.028660  "
      ]
     },
     "execution_count": 2,
     "metadata": {},
     "output_type": "execute_result"
    }
   ],
   "source": [
    "data_drug  = pd.read_csv(\"recommendation_data.csv\")\n",
    "data_drug.head()"
   ]
  },
  {
   "cell_type": "code",
   "execution_count": 3,
   "id": "4230d29b",
   "metadata": {},
   "outputs": [
    {
     "name": "stdout",
     "output_type": "stream",
     "text": [
      "Shape dataset: (202783, 11)\n"
     ]
    }
   ],
   "source": [
    "print('Shape dataset:', data_drug.shape)"
   ]
  },
  {
   "cell_type": "code",
   "execution_count": 4,
   "id": "f381b807",
   "metadata": {},
   "outputs": [
    {
     "name": "stdout",
     "output_type": "stream",
     "text": [
      "<class 'pandas.core.frame.DataFrame'>\n",
      "RangeIndex: 202783 entries, 0 to 202782\n",
      "Data columns (total 11 columns):\n",
      " #   Column                Non-Null Count   Dtype  \n",
      "---  ------                --------------   -----  \n",
      " 0   uniqueID              202783 non-null  int64  \n",
      " 1   drugName              202783 non-null  object \n",
      " 2   condition             202783 non-null  object \n",
      " 3   review                202783 non-null  object \n",
      " 4   rating                202783 non-null  int64  \n",
      " 5   date                  202783 non-null  object \n",
      " 6   usefulCount           202783 non-null  float64\n",
      " 7   clean_review          202783 non-null  object \n",
      " 8   skor_sentimen         202783 non-null  float64\n",
      " 9   sentimen              202783 non-null  int64  \n",
      " 10  recommendation_score  202783 non-null  float64\n",
      "dtypes: float64(3), int64(3), object(5)\n",
      "memory usage: 17.0+ MB\n"
     ]
    }
   ],
   "source": [
    "data_drug.info()"
   ]
  },
  {
   "cell_type": "code",
   "execution_count": 5,
   "id": "157e9b7e",
   "metadata": {},
   "outputs": [],
   "source": [
    "# Cleaning func\n",
    "\n",
    "def decontracted(phrase):\n",
    "    # specific\n",
    "    phrase = re.sub(r\"won't\", \"will not\", phrase)\n",
    "    phrase = re.sub(r\"can\\'t\", \"can not\", phrase)\n",
    "\n",
    "    # general\n",
    "    phrase = re.sub(r\"n\\'t\", \" not\", phrase)\n",
    "    phrase = re.sub(r\"\\'re\", \" are\", phrase)\n",
    "    phrase = re.sub(r\"\\'s\", \" is\", phrase)\n",
    "    phrase = re.sub(r\"\\'d\", \" would\", phrase)\n",
    "    phrase = re.sub(r\"\\'ll\", \" will\", phrase)\n",
    "    phrase = re.sub(r\"\\'t\", \" not\", phrase)\n",
    "    phrase = re.sub(r\"\\'ve\", \" have\", phrase)\n",
    "    phrase = re.sub(r\"\\'m\", \" am\", phrase)\n",
    "    return phrase"
   ]
  },
  {
   "cell_type": "code",
   "execution_count": 6,
   "id": "ed911002",
   "metadata": {},
   "outputs": [],
   "source": [
    "# Cleaning\n",
    "\n",
    "def preprocess_text(text_data):\n",
    "\n",
    "    text_data = decontracted(text_data)\n",
    "\n",
    "    text_data = text_data.replace('\\n',' ')\n",
    "    text_data = text_data.replace('\\r',' ')\n",
    "    text_data = text_data.replace('\\t',' ')\n",
    "    text_data = text_data.replace('-',' ')\n",
    "    text_data = text_data.replace(\"/\",' ')\n",
    "    text_data = text_data.replace(\">\",' ')\n",
    "    text_data = text_data.replace('\"',' ')\n",
    "    text_data = text_data.replace('?',' ')\n",
    "    return text_data"
   ]
  },
  {
   "cell_type": "code",
   "execution_count": 7,
   "id": "c13d31cd",
   "metadata": {},
   "outputs": [],
   "source": [
    "# Stopword\n",
    "\n",
    "stop_words = set(stopwords.words('english'))\n",
    "stemmer = SnowballStemmer('english')\n",
    "\n",
    "# menghapus 'no' dari daftar stopwords karena pentingnya 'side effects' dan 'no side effects' dalam kolom review\n",
    "stop_words.remove('no')\n",
    "\n",
    "# Stemming\n",
    "def nlp_preprocessing(review):\n",
    "    '''untuk menghapus digit, spasi berlebih, kata2 yg tdk diingankan dan mengkonversi ke huruf kecil lalu melakukan stemming'''\n",
    "\n",
    "    if type(review) is not int:\n",
    "        string = \"\"\n",
    "        review = preprocess_text(review)\n",
    "        review = re.sub('[^a-zA-Z]', ' ', review)\n",
    "\n",
    "        review = re.sub('\\s+',' ', review)\n",
    "\n",
    "        review = review.lower()\n",
    "\n",
    "        for word in review.split():\n",
    "\n",
    "            if not word in stop_words:\n",
    "                word = stemmer.stem(word)\n",
    "                string += word + \" \"\n",
    "\n",
    "        return string"
   ]
  },
  {
   "cell_type": "markdown",
   "id": "9e5bd9af",
   "metadata": {},
   "source": []
  },
  {
   "cell_type": "code",
   "execution_count": null,
   "id": "7d5cc8c5",
   "metadata": {},
   "outputs": [],
   "source": [
    "# Kolom baru 'clean_review'\n",
    "data_drug['drugName'] = data_drug['drugName'].apply(nlp_preprocessing)\n",
    "data_drug['condition'] = data_drug['condition'].apply(nlp_preprocessing)"
   ]
  },
  {
   "cell_type": "code",
   "execution_count": null,
   "id": "8fe8e64b",
   "metadata": {},
   "outputs": [],
   "source": [
    "# Menggabungkan kolom A dan B menjadi kolom baru C\n",
    "data_drug['full_konteks'] = data_drug['drugName'] + data_drug['condition'] + data_drug['clean_review']"
   ]
  },
  {
   "cell_type": "code",
   "execution_count": null,
   "id": "d757a0b8",
   "metadata": {},
   "outputs": [],
   "source": [
    "vectorizer = TfidfVectorizer()\n",
    "X_new = vectorizer.fit_transform([x.lower() for x in data_drug['full_konteks']])"
   ]
  },
  {
   "cell_type": "code",
   "execution_count": null,
   "id": "5eb25dbd",
   "metadata": {},
   "outputs": [],
   "source": [
    "def searching(word, limit=5):\n",
    "    word = re.sub('[^a-zA-Z0-9 ]','', word.lower()) # match everyting that's not alphabet and digit and remove it\n",
    "    query_vec = vectorizer.transform([word])\n",
    "    similarity = cosine_similarity(query_vec, X_new).flatten()\n",
    "    \n",
    "    filtered = np.where(similarity != 0)[0]\n",
    "    indices = np.argsort(-similarity[filtered])\n",
    "    correct_indices = filtered[indices]\n",
    "    result = data_drug.iloc[correct_indices]\n",
    "    \n",
    "    if not len(result):\n",
    "        return 'Result not found'\n",
    "    \n",
    "    overall =  result['recommendation_score'] *  similarity[correct_indices] \n",
    "    \n",
    "    return result.loc[overall.sort_values(ascending=False).index].head(limit)"
   ]
  },
  {
   "cell_type": "code",
   "execution_count": null,
   "id": "188ebca6",
   "metadata": {},
   "outputs": [],
   "source": [
    "searching(\"left ventricular dysfunction\")"
   ]
  },
  {
   "cell_type": "code",
   "execution_count": null,
   "id": "336a0a7d",
   "metadata": {},
   "outputs": [],
   "source": []
  }
 ],
 "metadata": {
  "kernelspec": {
   "display_name": "Python 3 (ipykernel)",
   "language": "python",
   "name": "python3"
  },
  "language_info": {
   "codemirror_mode": {
    "name": "ipython",
    "version": 3
   },
   "file_extension": ".py",
   "mimetype": "text/x-python",
   "name": "python",
   "nbconvert_exporter": "python",
   "pygments_lexer": "ipython3",
   "version": "3.9.13"
  }
 },
 "nbformat": 4,
 "nbformat_minor": 5
}
