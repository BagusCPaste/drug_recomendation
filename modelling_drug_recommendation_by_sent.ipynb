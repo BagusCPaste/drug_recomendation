{
 "cells": [
  {
   "cell_type": "code",
   "execution_count": 1,
   "id": "5a0ad059",
   "metadata": {
    "_cell_guid": "b1076dfc-b9ad-4769-8c92-a6c4dae69d19",
    "_uuid": "8f2839f25d086af736a60e9eeb907d3b93b6e0e5",
    "execution": {
     "iopub.execute_input": "2023-12-26T10:11:26.391069Z",
     "iopub.status.busy": "2023-12-26T10:11:26.390039Z",
     "iopub.status.idle": "2023-12-26T10:11:28.472475Z",
     "shell.execute_reply": "2023-12-26T10:11:28.471140Z"
    },
    "papermill": {
     "duration": 2.10754,
     "end_time": "2023-12-26T10:11:28.475851",
     "exception": false,
     "start_time": "2023-12-26T10:11:26.368311",
     "status": "completed"
    },
    "tags": []
   },
   "outputs": [],
   "source": [
    "import pandas as pd\n",
    "import numpy as np\n",
    "import matplotlib.pyplot as plt\n",
    "import seaborn as sns\n",
    "import warnings\n",
    "warnings.filterwarnings('ignore')\n",
    "from wordcloud import WordCloud\n",
    "from wordcloud import STOPWORDS"
   ]
  },
  {
   "cell_type": "code",
   "execution_count": 2,
   "id": "82777853",
   "metadata": {
    "execution": {
     "iopub.execute_input": "2023-12-26T10:11:28.516088Z",
     "iopub.status.busy": "2023-12-26T10:11:28.515391Z",
     "iopub.status.idle": "2023-12-26T10:11:29.708721Z",
     "shell.execute_reply": "2023-12-26T10:11:29.707181Z"
    },
    "papermill": {
     "duration": 1.216628,
     "end_time": "2023-12-26T10:11:29.711636",
     "exception": false,
     "start_time": "2023-12-26T10:11:28.495008",
     "status": "completed"
    },
    "tags": []
   },
   "outputs": [
    {
     "name": "stdout",
     "output_type": "stream",
     "text": [
      "[nltk_data] Downloading package stopwords to /usr/share/nltk_data...\n",
      "[nltk_data]   Package stopwords is already up-to-date!\n"
     ]
    }
   ],
   "source": [
    "import nltk\n",
    "import regex as re\n",
    "nltk.download('stopwords')\n",
    "from tqdm import tqdm\n",
    "from nltk.corpus import stopwords\n",
    "from nltk.stem.snowball import SnowballStemmer"
   ]
  },
  {
   "cell_type": "markdown",
   "id": "0a3221b6",
   "metadata": {
    "papermill": {
     "duration": 0.019018,
     "end_time": "2023-12-26T10:11:29.749887",
     "exception": false,
     "start_time": "2023-12-26T10:11:29.730869",
     "status": "completed"
    },
    "tags": []
   },
   "source": [
    "## Preproccessing Data"
   ]
  },
  {
   "cell_type": "code",
   "execution_count": 3,
   "id": "a0c1ac51",
   "metadata": {
    "execution": {
     "iopub.execute_input": "2023-12-26T10:11:29.791547Z",
     "iopub.status.busy": "2023-12-26T10:11:29.791036Z",
     "iopub.status.idle": "2023-12-26T10:11:32.535102Z",
     "shell.execute_reply": "2023-12-26T10:11:32.533697Z"
    },
    "papermill": {
     "duration": 2.769438,
     "end_time": "2023-12-26T10:11:32.538820",
     "exception": false,
     "start_time": "2023-12-26T10:11:29.769382",
     "status": "completed"
    },
    "tags": []
   },
   "outputs": [],
   "source": [
    "data_train = pd.read_csv('/kaggle/input/kuc-hackathon-winter-2018/drugsComTrain_raw.csv')\n",
    "data_test = pd.read_csv('/kaggle/input/kuc-hackathon-winter-2018/drugsComTest_raw.csv')"
   ]
  },
  {
   "cell_type": "code",
   "execution_count": 4,
   "id": "a92556d4",
   "metadata": {
    "execution": {
     "iopub.execute_input": "2023-12-26T10:11:32.581285Z",
     "iopub.status.busy": "2023-12-26T10:11:32.580604Z",
     "iopub.status.idle": "2023-12-26T10:11:32.611671Z",
     "shell.execute_reply": "2023-12-26T10:11:32.610312Z"
    },
    "papermill": {
     "duration": 0.056529,
     "end_time": "2023-12-26T10:11:32.614655",
     "exception": false,
     "start_time": "2023-12-26T10:11:32.558126",
     "status": "completed"
    },
    "tags": []
   },
   "outputs": [
    {
     "name": "stdout",
     "output_type": "stream",
     "text": [
      "Jumlah dataset Train: (161297, 7)\n",
      "Jumlah dataset Test: (53766, 7)\n",
      "Overview :\n",
      "\n"
     ]
    },
    {
     "data": {
      "text/html": [
       "<div>\n",
       "<style scoped>\n",
       "    .dataframe tbody tr th:only-of-type {\n",
       "        vertical-align: middle;\n",
       "    }\n",
       "\n",
       "    .dataframe tbody tr th {\n",
       "        vertical-align: top;\n",
       "    }\n",
       "\n",
       "    .dataframe thead th {\n",
       "        text-align: right;\n",
       "    }\n",
       "</style>\n",
       "<table border=\"1\" class=\"dataframe\">\n",
       "  <thead>\n",
       "    <tr style=\"text-align: right;\">\n",
       "      <th></th>\n",
       "      <th>uniqueID</th>\n",
       "      <th>drugName</th>\n",
       "      <th>condition</th>\n",
       "      <th>review</th>\n",
       "      <th>rating</th>\n",
       "      <th>date</th>\n",
       "      <th>usefulCount</th>\n",
       "    </tr>\n",
       "  </thead>\n",
       "  <tbody>\n",
       "    <tr>\n",
       "      <th>0</th>\n",
       "      <td>206461</td>\n",
       "      <td>Valsartan</td>\n",
       "      <td>Left Ventricular Dysfunction</td>\n",
       "      <td>\"It has no side effect, I take it in combinati...</td>\n",
       "      <td>9</td>\n",
       "      <td>20-May-12</td>\n",
       "      <td>27</td>\n",
       "    </tr>\n",
       "    <tr>\n",
       "      <th>1</th>\n",
       "      <td>95260</td>\n",
       "      <td>Guanfacine</td>\n",
       "      <td>ADHD</td>\n",
       "      <td>\"My son is halfway through his fourth week of ...</td>\n",
       "      <td>8</td>\n",
       "      <td>27-Apr-10</td>\n",
       "      <td>192</td>\n",
       "    </tr>\n",
       "    <tr>\n",
       "      <th>2</th>\n",
       "      <td>92703</td>\n",
       "      <td>Lybrel</td>\n",
       "      <td>Birth Control</td>\n",
       "      <td>\"I used to take another oral contraceptive, wh...</td>\n",
       "      <td>5</td>\n",
       "      <td>14-Dec-09</td>\n",
       "      <td>17</td>\n",
       "    </tr>\n",
       "    <tr>\n",
       "      <th>3</th>\n",
       "      <td>138000</td>\n",
       "      <td>Ortho Evra</td>\n",
       "      <td>Birth Control</td>\n",
       "      <td>\"This is my first time using any form of birth...</td>\n",
       "      <td>8</td>\n",
       "      <td>3-Nov-15</td>\n",
       "      <td>10</td>\n",
       "    </tr>\n",
       "    <tr>\n",
       "      <th>4</th>\n",
       "      <td>35696</td>\n",
       "      <td>Buprenorphine / naloxone</td>\n",
       "      <td>Opiate Dependence</td>\n",
       "      <td>\"Suboxone has completely turned my life around...</td>\n",
       "      <td>9</td>\n",
       "      <td>27-Nov-16</td>\n",
       "      <td>37</td>\n",
       "    </tr>\n",
       "  </tbody>\n",
       "</table>\n",
       "</div>"
      ],
      "text/plain": [
       "   uniqueID                  drugName                     condition  \\\n",
       "0    206461                 Valsartan  Left Ventricular Dysfunction   \n",
       "1     95260                Guanfacine                          ADHD   \n",
       "2     92703                    Lybrel                 Birth Control   \n",
       "3    138000                Ortho Evra                 Birth Control   \n",
       "4     35696  Buprenorphine / naloxone             Opiate Dependence   \n",
       "\n",
       "                                              review  rating       date  \\\n",
       "0  \"It has no side effect, I take it in combinati...       9  20-May-12   \n",
       "1  \"My son is halfway through his fourth week of ...       8  27-Apr-10   \n",
       "2  \"I used to take another oral contraceptive, wh...       5  14-Dec-09   \n",
       "3  \"This is my first time using any form of birth...       8   3-Nov-15   \n",
       "4  \"Suboxone has completely turned my life around...       9  27-Nov-16   \n",
       "\n",
       "   usefulCount  \n",
       "0           27  \n",
       "1          192  \n",
       "2           17  \n",
       "3           10  \n",
       "4           37  "
      ]
     },
     "execution_count": 4,
     "metadata": {},
     "output_type": "execute_result"
    }
   ],
   "source": [
    "# Banyaknya data\n",
    "print('Jumlah dataset Train:',data_train.shape)\n",
    "print('Jumlah dataset Test:',data_test.shape)\n",
    "\n",
    "print('Overview :\\n')\n",
    "data_train.head(5)"
   ]
  },
  {
   "cell_type": "code",
   "execution_count": 5,
   "id": "eb3dd597",
   "metadata": {
    "execution": {
     "iopub.execute_input": "2023-12-26T10:11:32.656148Z",
     "iopub.status.busy": "2023-12-26T10:11:32.655664Z",
     "iopub.status.idle": "2023-12-26T10:11:32.706224Z",
     "shell.execute_reply": "2023-12-26T10:11:32.704558Z"
    },
    "papermill": {
     "duration": 0.07463,
     "end_time": "2023-12-26T10:11:32.709006",
     "exception": false,
     "start_time": "2023-12-26T10:11:32.634376",
     "status": "completed"
    },
    "tags": []
   },
   "outputs": [
    {
     "name": "stdout",
     "output_type": "stream",
     "text": [
      "Dataset gabungan: (215063, 7)\n"
     ]
    }
   ],
   "source": [
    "data = pd.concat([data_train,data_test])\n",
    "print('Dataset gabungan:',data.shape)"
   ]
  },
  {
   "cell_type": "code",
   "execution_count": 6,
   "id": "0471d37f",
   "metadata": {
    "execution": {
     "iopub.execute_input": "2023-12-26T10:11:32.751008Z",
     "iopub.status.busy": "2023-12-26T10:11:32.750460Z",
     "iopub.status.idle": "2023-12-26T10:11:32.766178Z",
     "shell.execute_reply": "2023-12-26T10:11:32.764772Z"
    },
    "papermill": {
     "duration": 0.040678,
     "end_time": "2023-12-26T10:11:32.769431",
     "exception": false,
     "start_time": "2023-12-26T10:11:32.728753",
     "status": "completed"
    },
    "tags": []
   },
   "outputs": [
    {
     "data": {
      "text/html": [
       "<div>\n",
       "<style scoped>\n",
       "    .dataframe tbody tr th:only-of-type {\n",
       "        vertical-align: middle;\n",
       "    }\n",
       "\n",
       "    .dataframe tbody tr th {\n",
       "        vertical-align: top;\n",
       "    }\n",
       "\n",
       "    .dataframe thead th {\n",
       "        text-align: right;\n",
       "    }\n",
       "</style>\n",
       "<table border=\"1\" class=\"dataframe\">\n",
       "  <thead>\n",
       "    <tr style=\"text-align: right;\">\n",
       "      <th></th>\n",
       "      <th>uniqueID</th>\n",
       "      <th>drugName</th>\n",
       "      <th>condition</th>\n",
       "      <th>review</th>\n",
       "      <th>rating</th>\n",
       "      <th>date</th>\n",
       "      <th>usefulCount</th>\n",
       "    </tr>\n",
       "  </thead>\n",
       "  <tbody>\n",
       "    <tr>\n",
       "      <th>215058</th>\n",
       "      <td>159999</td>\n",
       "      <td>Tamoxifen</td>\n",
       "      <td>Breast Cancer, Prevention</td>\n",
       "      <td>\"I have taken Tamoxifen for 5 years. Side effe...</td>\n",
       "      <td>10</td>\n",
       "      <td>13-Sep-14</td>\n",
       "      <td>43</td>\n",
       "    </tr>\n",
       "    <tr>\n",
       "      <th>215059</th>\n",
       "      <td>140714</td>\n",
       "      <td>Escitalopram</td>\n",
       "      <td>Anxiety</td>\n",
       "      <td>\"I&amp;#039;ve been taking Lexapro (escitaploprgra...</td>\n",
       "      <td>9</td>\n",
       "      <td>8-Oct-16</td>\n",
       "      <td>11</td>\n",
       "    </tr>\n",
       "    <tr>\n",
       "      <th>215060</th>\n",
       "      <td>130945</td>\n",
       "      <td>Levonorgestrel</td>\n",
       "      <td>Birth Control</td>\n",
       "      <td>\"I&amp;#039;m married, 34 years old and I have no ...</td>\n",
       "      <td>8</td>\n",
       "      <td>15-Nov-10</td>\n",
       "      <td>7</td>\n",
       "    </tr>\n",
       "    <tr>\n",
       "      <th>215061</th>\n",
       "      <td>47656</td>\n",
       "      <td>Tapentadol</td>\n",
       "      <td>Pain</td>\n",
       "      <td>\"I was prescribed Nucynta for severe neck/shou...</td>\n",
       "      <td>1</td>\n",
       "      <td>28-Nov-11</td>\n",
       "      <td>20</td>\n",
       "    </tr>\n",
       "    <tr>\n",
       "      <th>215062</th>\n",
       "      <td>113712</td>\n",
       "      <td>Arthrotec</td>\n",
       "      <td>Sciatica</td>\n",
       "      <td>\"It works!!!\"</td>\n",
       "      <td>9</td>\n",
       "      <td>13-Sep-09</td>\n",
       "      <td>46</td>\n",
       "    </tr>\n",
       "  </tbody>\n",
       "</table>\n",
       "</div>"
      ],
      "text/plain": [
       "        uniqueID        drugName                  condition  \\\n",
       "215058    159999       Tamoxifen  Breast Cancer, Prevention   \n",
       "215059    140714    Escitalopram                    Anxiety   \n",
       "215060    130945  Levonorgestrel              Birth Control   \n",
       "215061     47656      Tapentadol                       Pain   \n",
       "215062    113712       Arthrotec                   Sciatica   \n",
       "\n",
       "                                                   review  rating       date  \\\n",
       "215058  \"I have taken Tamoxifen for 5 years. Side effe...      10  13-Sep-14   \n",
       "215059  \"I&#039;ve been taking Lexapro (escitaploprgra...       9   8-Oct-16   \n",
       "215060  \"I&#039;m married, 34 years old and I have no ...       8  15-Nov-10   \n",
       "215061  \"I was prescribed Nucynta for severe neck/shou...       1  28-Nov-11   \n",
       "215062                                      \"It works!!!\"       9  13-Sep-09   \n",
       "\n",
       "        usefulCount  \n",
       "215058           43  \n",
       "215059           11  \n",
       "215060            7  \n",
       "215061           20  \n",
       "215062           46  "
      ]
     },
     "execution_count": 6,
     "metadata": {},
     "output_type": "execute_result"
    }
   ],
   "source": [
    "# mengatur ulang indeks setelah penggabungan\n",
    "\n",
    "data.reset_index(inplace=True,drop=True)\n",
    "data.tail()"
   ]
  },
  {
   "cell_type": "code",
   "execution_count": 7,
   "id": "dc328192",
   "metadata": {
    "execution": {
     "iopub.execute_input": "2023-12-26T10:11:32.813827Z",
     "iopub.status.busy": "2023-12-26T10:11:32.813152Z",
     "iopub.status.idle": "2023-12-26T10:11:32.822969Z",
     "shell.execute_reply": "2023-12-26T10:11:32.821748Z"
    },
    "papermill": {
     "duration": 0.034811,
     "end_time": "2023-12-26T10:11:32.825703",
     "exception": false,
     "start_time": "2023-12-26T10:11:32.790892",
     "status": "completed"
    },
    "tags": []
   },
   "outputs": [
    {
     "data": {
      "text/plain": [
       "uniqueID        int64\n",
       "drugName       object\n",
       "condition      object\n",
       "review         object\n",
       "rating          int64\n",
       "date           object\n",
       "usefulCount     int64\n",
       "dtype: object"
      ]
     },
     "execution_count": 7,
     "metadata": {},
     "output_type": "execute_result"
    }
   ],
   "source": [
    "# memeriksa tipe data dalam kumpulan data\n",
    "data.dtypes"
   ]
  },
  {
   "cell_type": "code",
   "execution_count": 8,
   "id": "d6c9a98e",
   "metadata": {
    "execution": {
     "iopub.execute_input": "2023-12-26T10:11:32.868694Z",
     "iopub.status.busy": "2023-12-26T10:11:32.868032Z",
     "iopub.status.idle": "2023-12-26T10:11:32.980583Z",
     "shell.execute_reply": "2023-12-26T10:11:32.979190Z"
    },
    "papermill": {
     "duration": 0.138183,
     "end_time": "2023-12-26T10:11:32.984431",
     "exception": false,
     "start_time": "2023-12-26T10:11:32.846248",
     "status": "completed"
    },
    "tags": []
   },
   "outputs": [
    {
     "data": {
      "text/plain": [
       "uniqueID       False\n",
       "drugName       False\n",
       "condition       True\n",
       "review         False\n",
       "rating         False\n",
       "date           False\n",
       "usefulCount    False\n",
       "dtype: bool"
      ]
     },
     "execution_count": 8,
     "metadata": {},
     "output_type": "execute_result"
    }
   ],
   "source": [
    "# memeriksa nilai Null\n",
    "data.isnull().any()"
   ]
  },
  {
   "cell_type": "code",
   "execution_count": 9,
   "id": "b449ed7e",
   "metadata": {
    "execution": {
     "iopub.execute_input": "2023-12-26T10:11:33.026995Z",
     "iopub.status.busy": "2023-12-26T10:11:33.026511Z",
     "iopub.status.idle": "2023-12-26T10:11:33.137269Z",
     "shell.execute_reply": "2023-12-26T10:11:33.135609Z"
    },
    "papermill": {
     "duration": 0.135253,
     "end_time": "2023-12-26T10:11:33.140028",
     "exception": false,
     "start_time": "2023-12-26T10:11:33.004775",
     "status": "completed"
    },
    "tags": []
   },
   "outputs": [
    {
     "name": "stdout",
     "output_type": "stream",
     "text": [
      "Total null values: 1194\n",
      "Persentase null values: 0.5551861547546533\n"
     ]
    }
   ],
   "source": [
    "# memeriksa jumlah null value dan persentase dalam dataset\n",
    "\n",
    "null_size = data.isnull().sum()['condition']\n",
    "print('Total null values:',null_size)\n",
    "data_size = data.shape[0]\n",
    "print('Persentase null values:',(null_size/data_size)*100)"
   ]
  },
  {
   "cell_type": "code",
   "execution_count": 10,
   "id": "45360d3e",
   "metadata": {
    "execution": {
     "iopub.execute_input": "2023-12-26T10:11:33.184720Z",
     "iopub.status.busy": "2023-12-26T10:11:33.184196Z",
     "iopub.status.idle": "2023-12-26T10:11:33.328740Z",
     "shell.execute_reply": "2023-12-26T10:11:33.327400Z"
    },
    "papermill": {
     "duration": 0.170398,
     "end_time": "2023-12-26T10:11:33.331651",
     "exception": false,
     "start_time": "2023-12-26T10:11:33.161253",
     "status": "completed"
    },
    "tags": []
   },
   "outputs": [
    {
     "name": "stdout",
     "output_type": "stream",
     "text": [
      "Size dataset setelah drop NA: (213869, 7)\n"
     ]
    }
   ],
   "source": [
    "# menghapus baris dengan nilai null\n",
    "\n",
    "data = data.dropna(axis=0)\n",
    "print('Size dataset setelah drop NA:',data.shape)"
   ]
  },
  {
   "cell_type": "code",
   "execution_count": 11,
   "id": "e9eb683b",
   "metadata": {
    "execution": {
     "iopub.execute_input": "2023-12-26T10:11:33.468487Z",
     "iopub.status.busy": "2023-12-26T10:11:33.467975Z",
     "iopub.status.idle": "2023-12-26T10:11:33.506164Z",
     "shell.execute_reply": "2023-12-26T10:11:33.504725Z"
    },
    "papermill": {
     "duration": 0.063801,
     "end_time": "2023-12-26T10:11:33.509022",
     "exception": false,
     "start_time": "2023-12-26T10:11:33.445221",
     "status": "completed"
    },
    "tags": []
   },
   "outputs": [
    {
     "name": "stdout",
     "output_type": "stream",
     "text": [
      "Jumlah kondisi yang berbeda: 916\n"
     ]
    }
   ],
   "source": [
    "# memeriksa jml kondisi\n",
    "\n",
    "print('Jumlah kondisi yang berbeda:',data['condition'].unique().shape[0])"
   ]
  },
  {
   "cell_type": "code",
   "execution_count": 12,
   "id": "36abee73",
   "metadata": {
    "execution": {
     "iopub.execute_input": "2023-12-26T10:11:33.552933Z",
     "iopub.status.busy": "2023-12-26T10:11:33.552442Z",
     "iopub.status.idle": "2023-12-26T10:12:06.923284Z",
     "shell.execute_reply": "2023-12-26T10:12:06.921972Z"
    },
    "papermill": {
     "duration": 33.418053,
     "end_time": "2023-12-26T10:12:06.947924",
     "exception": false,
     "start_time": "2023-12-26T10:11:33.529871",
     "status": "completed"
    },
    "tags": []
   },
   "outputs": [
    {
     "name": "stdout",
     "output_type": "stream",
     "text": [
      "1. Birth Control -> 181\n",
      "2. Depression -> 115\n",
      "3. Pain -> 219\n",
      "4. Anxiety -> 81\n",
      "5. Acne -> 127\n",
      "6. Bipolar Disorde -> 82\n",
      "7. Insomnia -> 85\n",
      "8. Weight Loss -> 22\n",
      "9. Obesity -> 43\n",
      "10. ADHD -> 58\n",
      "11. Diabetes, Type 2 -> 97\n",
      "12. Emergency Contraception -> 12\n",
      "13. High Blood Pressure -> 146\n",
      "14. Vaginal Yeast Infection -> 26\n",
      "15. Abnormal Uterine Bleeding -> 77\n",
      "16. Bowel Preparation -> 29\n",
      "17. Smoking Cessation -> 17\n",
      "18. ibromyalgia -> 46\n",
      "19. Migraine -> 60\n",
      "20. Anxiety and Stress -> 19\n"
     ]
    }
   ],
   "source": [
    "# menghitung jumlah obat untuk setiap kondisi tertentu\n",
    "val=[]\n",
    "conditions = dict(data['condition'].value_counts())\n",
    "for c in list(conditions.keys()):\n",
    "    val.append(data[data['condition']==c]['drugName'].nunique())\n",
    "\n",
    "drug_cond = dict(zip(list(conditions.keys()),val))\n",
    "\n",
    "for index, (key, value) in enumerate(drug_cond.items()):\n",
    "    if index >= 20:\n",
    "        break\n",
    "    print(f\"{index + 1}. {key} -> {value}\")\n"
   ]
  },
  {
   "cell_type": "code",
   "execution_count": 13,
   "id": "113f1472",
   "metadata": {
    "execution": {
     "iopub.execute_input": "2023-12-26T10:12:06.992718Z",
     "iopub.status.busy": "2023-12-26T10:12:06.991996Z",
     "iopub.status.idle": "2023-12-26T10:13:10.887130Z",
     "shell.execute_reply": "2023-12-26T10:13:10.885241Z"
    },
    "papermill": {
     "duration": 63.92105,
     "end_time": "2023-12-26T10:13:10.890622",
     "exception": false,
     "start_time": "2023-12-26T10:12:06.969572",
     "status": "completed"
    },
    "tags": []
   },
   "outputs": [],
   "source": [
    "# menghilangkan kondisi yang tidak diinginkan pada kolom kondisi pada dataset di atas.\n",
    "del_index = []\n",
    "conds =[]\n",
    "for c in data['condition']:\n",
    "    if ('helpful' in c) or ('Listed' in c):\n",
    "        f= list(data[data['condition']==c].index)\n",
    "        del_index.extend(f)\n",
    "        conds.append(c)"
   ]
  },
  {
   "cell_type": "code",
   "execution_count": 14,
   "id": "0632d80a",
   "metadata": {
    "execution": {
     "iopub.execute_input": "2023-12-26T10:13:10.935405Z",
     "iopub.status.busy": "2023-12-26T10:13:10.934610Z",
     "iopub.status.idle": "2023-12-26T10:13:11.039157Z",
     "shell.execute_reply": "2023-12-26T10:13:11.037908Z"
    },
    "papermill": {
     "duration": 0.130099,
     "end_time": "2023-12-26T10:13:11.042048",
     "exception": false,
     "start_time": "2023-12-26T10:13:10.911949",
     "status": "completed"
    },
    "tags": []
   },
   "outputs": [
    {
     "name": "stdout",
     "output_type": "stream",
     "text": [
      "Banyak data sebelum dihapus: (213869, 7)\n",
      "Data yang dihapus: 1763\n",
      "Banyak data setelah dihapus: (212106, 7)\n"
     ]
    }
   ],
   "source": [
    "print('Banyak data sebelum dihapus:',data.shape)\n",
    "print('Data yang dihapus:',len(conds))\n",
    "\n",
    "\n",
    "data.drop(del_index,inplace=True)\n",
    "print('Banyak data setelah dihapus:',data.shape)"
   ]
  },
  {
   "cell_type": "code",
   "execution_count": 15,
   "id": "6d0ada95",
   "metadata": {
    "execution": {
     "iopub.execute_input": "2023-12-26T10:13:11.086405Z",
     "iopub.status.busy": "2023-12-26T10:13:11.085641Z",
     "iopub.status.idle": "2023-12-26T10:13:11.100758Z",
     "shell.execute_reply": "2023-12-26T10:13:11.099419Z"
    },
    "papermill": {
     "duration": 0.040997,
     "end_time": "2023-12-26T10:13:11.103649",
     "exception": false,
     "start_time": "2023-12-26T10:13:11.062652",
     "status": "completed"
    },
    "tags": []
   },
   "outputs": [
    {
     "data": {
      "text/html": [
       "<div>\n",
       "<style scoped>\n",
       "    .dataframe tbody tr th:only-of-type {\n",
       "        vertical-align: middle;\n",
       "    }\n",
       "\n",
       "    .dataframe tbody tr th {\n",
       "        vertical-align: top;\n",
       "    }\n",
       "\n",
       "    .dataframe thead th {\n",
       "        text-align: right;\n",
       "    }\n",
       "</style>\n",
       "<table border=\"1\" class=\"dataframe\">\n",
       "  <thead>\n",
       "    <tr style=\"text-align: right;\">\n",
       "      <th></th>\n",
       "      <th>uniqueID</th>\n",
       "      <th>drugName</th>\n",
       "      <th>condition</th>\n",
       "      <th>review</th>\n",
       "      <th>rating</th>\n",
       "      <th>date</th>\n",
       "      <th>usefulCount</th>\n",
       "    </tr>\n",
       "  </thead>\n",
       "  <tbody>\n",
       "    <tr>\n",
       "      <th>212101</th>\n",
       "      <td>159999</td>\n",
       "      <td>Tamoxifen</td>\n",
       "      <td>Breast Cancer, Prevention</td>\n",
       "      <td>\"I have taken Tamoxifen for 5 years. Side effe...</td>\n",
       "      <td>10</td>\n",
       "      <td>13-Sep-14</td>\n",
       "      <td>43</td>\n",
       "    </tr>\n",
       "    <tr>\n",
       "      <th>212102</th>\n",
       "      <td>140714</td>\n",
       "      <td>Escitalopram</td>\n",
       "      <td>Anxiety</td>\n",
       "      <td>\"I&amp;#039;ve been taking Lexapro (escitaploprgra...</td>\n",
       "      <td>9</td>\n",
       "      <td>8-Oct-16</td>\n",
       "      <td>11</td>\n",
       "    </tr>\n",
       "    <tr>\n",
       "      <th>212103</th>\n",
       "      <td>130945</td>\n",
       "      <td>Levonorgestrel</td>\n",
       "      <td>Birth Control</td>\n",
       "      <td>\"I&amp;#039;m married, 34 years old and I have no ...</td>\n",
       "      <td>8</td>\n",
       "      <td>15-Nov-10</td>\n",
       "      <td>7</td>\n",
       "    </tr>\n",
       "    <tr>\n",
       "      <th>212104</th>\n",
       "      <td>47656</td>\n",
       "      <td>Tapentadol</td>\n",
       "      <td>Pain</td>\n",
       "      <td>\"I was prescribed Nucynta for severe neck/shou...</td>\n",
       "      <td>1</td>\n",
       "      <td>28-Nov-11</td>\n",
       "      <td>20</td>\n",
       "    </tr>\n",
       "    <tr>\n",
       "      <th>212105</th>\n",
       "      <td>113712</td>\n",
       "      <td>Arthrotec</td>\n",
       "      <td>Sciatica</td>\n",
       "      <td>\"It works!!!\"</td>\n",
       "      <td>9</td>\n",
       "      <td>13-Sep-09</td>\n",
       "      <td>46</td>\n",
       "    </tr>\n",
       "  </tbody>\n",
       "</table>\n",
       "</div>"
      ],
      "text/plain": [
       "        uniqueID        drugName                  condition  \\\n",
       "212101    159999       Tamoxifen  Breast Cancer, Prevention   \n",
       "212102    140714    Escitalopram                    Anxiety   \n",
       "212103    130945  Levonorgestrel              Birth Control   \n",
       "212104     47656      Tapentadol                       Pain   \n",
       "212105    113712       Arthrotec                   Sciatica   \n",
       "\n",
       "                                                   review  rating       date  \\\n",
       "212101  \"I have taken Tamoxifen for 5 years. Side effe...      10  13-Sep-14   \n",
       "212102  \"I&#039;ve been taking Lexapro (escitaploprgra...       9   8-Oct-16   \n",
       "212103  \"I&#039;m married, 34 years old and I have no ...       8  15-Nov-10   \n",
       "212104  \"I was prescribed Nucynta for severe neck/shou...       1  28-Nov-11   \n",
       "212105                                      \"It works!!!\"       9  13-Sep-09   \n",
       "\n",
       "        usefulCount  \n",
       "212101           43  \n",
       "212102           11  \n",
       "212103            7  \n",
       "212104           20  \n",
       "212105           46  "
      ]
     },
     "execution_count": 15,
     "metadata": {},
     "output_type": "execute_result"
    }
   ],
   "source": [
    "data.reset_index(inplace=True,drop=True)\n",
    "data.tail()"
   ]
  },
  {
   "cell_type": "code",
   "execution_count": 16,
   "id": "36b66c01",
   "metadata": {
    "execution": {
     "iopub.execute_input": "2023-12-26T10:13:11.148563Z",
     "iopub.status.busy": "2023-12-26T10:13:11.148031Z",
     "iopub.status.idle": "2023-12-26T10:13:11.156492Z",
     "shell.execute_reply": "2023-12-26T10:13:11.155169Z"
    },
    "papermill": {
     "duration": 0.034427,
     "end_time": "2023-12-26T10:13:11.159273",
     "exception": false,
     "start_time": "2023-12-26T10:13:11.124846",
     "status": "completed"
    },
    "tags": []
   },
   "outputs": [],
   "source": [
    "# Cleaning func\n",
    "\n",
    "def decontracted(phrase):\n",
    "    # specific\n",
    "    phrase = re.sub(r\"won't\", \"will not\", phrase)\n",
    "    phrase = re.sub(r\"can\\'t\", \"can not\", phrase)\n",
    "\n",
    "    # general\n",
    "    phrase = re.sub(r\"n\\'t\", \" not\", phrase)\n",
    "    phrase = re.sub(r\"\\'re\", \" are\", phrase)\n",
    "    phrase = re.sub(r\"\\'s\", \" is\", phrase)\n",
    "    phrase = re.sub(r\"\\'d\", \" would\", phrase)\n",
    "    phrase = re.sub(r\"\\'ll\", \" will\", phrase)\n",
    "    phrase = re.sub(r\"\\'t\", \" not\", phrase)\n",
    "    phrase = re.sub(r\"\\'ve\", \" have\", phrase)\n",
    "    phrase = re.sub(r\"\\'m\", \" am\", phrase)\n",
    "    return phrase"
   ]
  },
  {
   "cell_type": "code",
   "execution_count": 17,
   "id": "7cfbbe59",
   "metadata": {
    "execution": {
     "iopub.execute_input": "2023-12-26T10:13:11.207125Z",
     "iopub.status.busy": "2023-12-26T10:13:11.206667Z",
     "iopub.status.idle": "2023-12-26T10:13:11.214308Z",
     "shell.execute_reply": "2023-12-26T10:13:11.212952Z"
    },
    "papermill": {
     "duration": 0.036571,
     "end_time": "2023-12-26T10:13:11.217118",
     "exception": false,
     "start_time": "2023-12-26T10:13:11.180547",
     "status": "completed"
    },
    "tags": []
   },
   "outputs": [],
   "source": [
    "# Cleaning\n",
    "\n",
    "def preprocess_text(text_data):\n",
    "\n",
    "    text_data = decontracted(text_data)\n",
    "\n",
    "    text_data = text_data.replace('\\n',' ')\n",
    "    text_data = text_data.replace('\\r',' ')\n",
    "    text_data = text_data.replace('\\t',' ')\n",
    "    text_data = text_data.replace('-',' ')\n",
    "    text_data = text_data.replace(\"/\",' ')\n",
    "    text_data = text_data.replace(\">\",' ')\n",
    "    text_data = text_data.replace('\"',' ')\n",
    "    text_data = text_data.replace('?',' ')\n",
    "    return text_data"
   ]
  },
  {
   "cell_type": "code",
   "execution_count": 18,
   "id": "0385a50b",
   "metadata": {
    "execution": {
     "iopub.execute_input": "2023-12-26T10:13:11.262214Z",
     "iopub.status.busy": "2023-12-26T10:13:11.261724Z",
     "iopub.status.idle": "2023-12-26T10:13:11.274514Z",
     "shell.execute_reply": "2023-12-26T10:13:11.273010Z"
    },
    "papermill": {
     "duration": 0.038885,
     "end_time": "2023-12-26T10:13:11.277411",
     "exception": false,
     "start_time": "2023-12-26T10:13:11.238526",
     "status": "completed"
    },
    "tags": []
   },
   "outputs": [],
   "source": [
    "# Stopword\n",
    "\n",
    "stop_words = set(stopwords.words('english'))\n",
    "stemmer = SnowballStemmer('english')\n",
    "\n",
    "# menghapus 'no' dari daftar stopwords karena pentingnya 'side effects' dan 'no side effects' dalam kolom review\n",
    "stop_words.remove('no')\n",
    "\n",
    "# Stemming\n",
    "def nlp_preprocessing(review):\n",
    "    '''untuk menghapus digit, spasi berlebih, kata2 yg tdk diingankan dan mengkonversi ke huruf kecil lalu melakukan stemming'''\n",
    "\n",
    "    if type(review) is not int:\n",
    "        string = \"\"\n",
    "        review = preprocess_text(review)\n",
    "        review = re.sub('[^a-zA-Z]', ' ', review)\n",
    "\n",
    "        review = re.sub('\\s+',' ', review)\n",
    "\n",
    "        review = review.lower()\n",
    "\n",
    "        for word in review.split():\n",
    "\n",
    "            if not word in stop_words:\n",
    "                word = stemmer.stem(word)\n",
    "                string += word + \" \"\n",
    "\n",
    "        return string"
   ]
  },
  {
   "cell_type": "code",
   "execution_count": 19,
   "id": "6b319559",
   "metadata": {
    "execution": {
     "iopub.execute_input": "2023-12-26T10:13:11.323942Z",
     "iopub.status.busy": "2023-12-26T10:13:11.322422Z",
     "iopub.status.idle": "2023-12-26T10:17:39.055722Z",
     "shell.execute_reply": "2023-12-26T10:17:39.054169Z"
    },
    "papermill": {
     "duration": 267.759993,
     "end_time": "2023-12-26T10:17:39.059260",
     "exception": false,
     "start_time": "2023-12-26T10:13:11.299267",
     "status": "completed"
    },
    "tags": []
   },
   "outputs": [],
   "source": [
    "# Kolom baru 'clean_review'\n",
    "data['clean_review'] = data['review'].apply(nlp_preprocessing)"
   ]
  },
  {
   "cell_type": "code",
   "execution_count": 20,
   "id": "791c742c",
   "metadata": {
    "execution": {
     "iopub.execute_input": "2023-12-26T10:17:39.105051Z",
     "iopub.status.busy": "2023-12-26T10:17:39.104245Z",
     "iopub.status.idle": "2023-12-26T10:17:39.194810Z",
     "shell.execute_reply": "2023-12-26T10:17:39.193664Z"
    },
    "papermill": {
     "duration": 0.116927,
     "end_time": "2023-12-26T10:17:39.197945",
     "exception": false,
     "start_time": "2023-12-26T10:17:39.081018",
     "status": "completed"
    },
    "tags": []
   },
   "outputs": [],
   "source": [
    "# Lower case kolom 'drugName'\n",
    "\n",
    "data['drugName'] = data['drugName'].apply(lambda x:x.lower())"
   ]
  },
  {
   "cell_type": "code",
   "execution_count": 21,
   "id": "0227b2e1",
   "metadata": {
    "execution": {
     "iopub.execute_input": "2023-12-26T10:17:39.242317Z",
     "iopub.status.busy": "2023-12-26T10:17:39.241778Z",
     "iopub.status.idle": "2023-12-26T10:17:39.333611Z",
     "shell.execute_reply": "2023-12-26T10:17:39.332460Z"
    },
    "papermill": {
     "duration": 0.117867,
     "end_time": "2023-12-26T10:17:39.336846",
     "exception": false,
     "start_time": "2023-12-26T10:17:39.218979",
     "status": "completed"
    },
    "tags": []
   },
   "outputs": [],
   "source": [
    "# Lower case kolom 'condition'\n",
    "data['condition'] = data['condition'].apply(lambda x:x.lower())"
   ]
  },
  {
   "cell_type": "code",
   "execution_count": 22,
   "id": "bf036ba4",
   "metadata": {
    "execution": {
     "iopub.execute_input": "2023-12-26T10:17:39.381860Z",
     "iopub.status.busy": "2023-12-26T10:17:39.381001Z",
     "iopub.status.idle": "2023-12-26T10:17:39.430000Z",
     "shell.execute_reply": "2023-12-26T10:17:39.428765Z"
    },
    "papermill": {
     "duration": 0.075012,
     "end_time": "2023-12-26T10:17:39.432995",
     "exception": false,
     "start_time": "2023-12-26T10:17:39.357983",
     "status": "completed"
    },
    "tags": []
   },
   "outputs": [
    {
     "data": {
      "text/html": [
       "<div>\n",
       "<style scoped>\n",
       "    .dataframe tbody tr th:only-of-type {\n",
       "        vertical-align: middle;\n",
       "    }\n",
       "\n",
       "    .dataframe tbody tr th {\n",
       "        vertical-align: top;\n",
       "    }\n",
       "\n",
       "    .dataframe thead th {\n",
       "        text-align: right;\n",
       "    }\n",
       "</style>\n",
       "<table border=\"1\" class=\"dataframe\">\n",
       "  <thead>\n",
       "    <tr style=\"text-align: right;\">\n",
       "      <th></th>\n",
       "      <th>drugName</th>\n",
       "      <th>condition</th>\n",
       "      <th>review</th>\n",
       "      <th>usefulCount</th>\n",
       "      <th>clean_review</th>\n",
       "    </tr>\n",
       "  </thead>\n",
       "  <tbody>\n",
       "    <tr>\n",
       "      <th>0</th>\n",
       "      <td>valsartan</td>\n",
       "      <td>left ventricular dysfunction</td>\n",
       "      <td>\"It has no side effect, I take it in combinati...</td>\n",
       "      <td>27</td>\n",
       "      <td>no side effect take combin bystol mg fish oil</td>\n",
       "    </tr>\n",
       "    <tr>\n",
       "      <th>1</th>\n",
       "      <td>guanfacine</td>\n",
       "      <td>adhd</td>\n",
       "      <td>\"My son is halfway through his fourth week of ...</td>\n",
       "      <td>192</td>\n",
       "      <td>son halfway fourth week intuniv becam concern ...</td>\n",
       "    </tr>\n",
       "    <tr>\n",
       "      <th>2</th>\n",
       "      <td>lybrel</td>\n",
       "      <td>birth control</td>\n",
       "      <td>\"I used to take another oral contraceptive, wh...</td>\n",
       "      <td>17</td>\n",
       "      <td>use take anoth oral contracept pill cycl happi...</td>\n",
       "    </tr>\n",
       "    <tr>\n",
       "      <th>3</th>\n",
       "      <td>ortho evra</td>\n",
       "      <td>birth control</td>\n",
       "      <td>\"This is my first time using any form of birth...</td>\n",
       "      <td>10</td>\n",
       "      <td>first time use form birth control glad went pa...</td>\n",
       "    </tr>\n",
       "    <tr>\n",
       "      <th>4</th>\n",
       "      <td>buprenorphine / naloxone</td>\n",
       "      <td>opiate dependence</td>\n",
       "      <td>\"Suboxone has completely turned my life around...</td>\n",
       "      <td>37</td>\n",
       "      <td>suboxon complet turn life around feel healthie...</td>\n",
       "    </tr>\n",
       "  </tbody>\n",
       "</table>\n",
       "</div>"
      ],
      "text/plain": [
       "                   drugName                     condition  \\\n",
       "0                 valsartan  left ventricular dysfunction   \n",
       "1                guanfacine                          adhd   \n",
       "2                    lybrel                 birth control   \n",
       "3                ortho evra                 birth control   \n",
       "4  buprenorphine / naloxone             opiate dependence   \n",
       "\n",
       "                                              review  usefulCount  \\\n",
       "0  \"It has no side effect, I take it in combinati...           27   \n",
       "1  \"My son is halfway through his fourth week of ...          192   \n",
       "2  \"I used to take another oral contraceptive, wh...           17   \n",
       "3  \"This is my first time using any form of birth...           10   \n",
       "4  \"Suboxone has completely turned my life around...           37   \n",
       "\n",
       "                                        clean_review  \n",
       "0     no side effect take combin bystol mg fish oil   \n",
       "1  son halfway fourth week intuniv becam concern ...  \n",
       "2  use take anoth oral contracept pill cycl happi...  \n",
       "3  first time use form birth control glad went pa...  \n",
       "4  suboxon complet turn life around feel healthie...  "
      ]
     },
     "execution_count": 22,
     "metadata": {},
     "output_type": "execute_result"
    }
   ],
   "source": [
    "drop_kolom = ['rating', 'date', 'uniqueID']\n",
    "data = data.drop(columns=drop_kolom)\n",
    "data.head()"
   ]
  },
  {
   "cell_type": "code",
   "execution_count": 23,
   "id": "d538aa07",
   "metadata": {
    "execution": {
     "iopub.execute_input": "2023-12-26T10:17:39.478260Z",
     "iopub.status.busy": "2023-12-26T10:17:39.477811Z",
     "iopub.status.idle": "2023-12-26T10:17:39.491926Z",
     "shell.execute_reply": "2023-12-26T10:17:39.490597Z"
    },
    "papermill": {
     "duration": 0.040368,
     "end_time": "2023-12-26T10:17:39.494908",
     "exception": false,
     "start_time": "2023-12-26T10:17:39.454540",
     "status": "completed"
    },
    "tags": []
   },
   "outputs": [
    {
     "data": {
      "text/html": [
       "<div>\n",
       "<style scoped>\n",
       "    .dataframe tbody tr th:only-of-type {\n",
       "        vertical-align: middle;\n",
       "    }\n",
       "\n",
       "    .dataframe tbody tr th {\n",
       "        vertical-align: top;\n",
       "    }\n",
       "\n",
       "    .dataframe thead th {\n",
       "        text-align: right;\n",
       "    }\n",
       "</style>\n",
       "<table border=\"1\" class=\"dataframe\">\n",
       "  <thead>\n",
       "    <tr style=\"text-align: right;\">\n",
       "      <th></th>\n",
       "      <th>drugName</th>\n",
       "      <th>condition</th>\n",
       "      <th>review</th>\n",
       "      <th>usefulCount</th>\n",
       "      <th>clean_review</th>\n",
       "    </tr>\n",
       "  </thead>\n",
       "  <tbody>\n",
       "    <tr>\n",
       "      <th>0</th>\n",
       "      <td>valsartan</td>\n",
       "      <td>left ventricular dysfunction</td>\n",
       "      <td>\"It has no side effect, I take it in combinati...</td>\n",
       "      <td>27</td>\n",
       "      <td>no side effect take combin bystol mg fish oil</td>\n",
       "    </tr>\n",
       "    <tr>\n",
       "      <th>1</th>\n",
       "      <td>guanfacine</td>\n",
       "      <td>adhd</td>\n",
       "      <td>\"My son is halfway through his fourth week of ...</td>\n",
       "      <td>192</td>\n",
       "      <td>son halfway fourth week intuniv becam concern ...</td>\n",
       "    </tr>\n",
       "    <tr>\n",
       "      <th>2</th>\n",
       "      <td>lybrel</td>\n",
       "      <td>birth control</td>\n",
       "      <td>\"I used to take another oral contraceptive, wh...</td>\n",
       "      <td>17</td>\n",
       "      <td>use take anoth oral contracept pill cycl happi...</td>\n",
       "    </tr>\n",
       "    <tr>\n",
       "      <th>3</th>\n",
       "      <td>ortho evra</td>\n",
       "      <td>birth control</td>\n",
       "      <td>\"This is my first time using any form of birth...</td>\n",
       "      <td>10</td>\n",
       "      <td>first time use form birth control glad went pa...</td>\n",
       "    </tr>\n",
       "    <tr>\n",
       "      <th>4</th>\n",
       "      <td>buprenorphine / naloxone</td>\n",
       "      <td>opiate dependence</td>\n",
       "      <td>\"Suboxone has completely turned my life around...</td>\n",
       "      <td>37</td>\n",
       "      <td>suboxon complet turn life around feel healthie...</td>\n",
       "    </tr>\n",
       "  </tbody>\n",
       "</table>\n",
       "</div>"
      ],
      "text/plain": [
       "                   drugName                     condition  \\\n",
       "0                 valsartan  left ventricular dysfunction   \n",
       "1                guanfacine                          adhd   \n",
       "2                    lybrel                 birth control   \n",
       "3                ortho evra                 birth control   \n",
       "4  buprenorphine / naloxone             opiate dependence   \n",
       "\n",
       "                                              review  usefulCount  \\\n",
       "0  \"It has no side effect, I take it in combinati...           27   \n",
       "1  \"My son is halfway through his fourth week of ...          192   \n",
       "2  \"I used to take another oral contraceptive, wh...           17   \n",
       "3  \"This is my first time using any form of birth...           10   \n",
       "4  \"Suboxone has completely turned my life around...           37   \n",
       "\n",
       "                                        clean_review  \n",
       "0     no side effect take combin bystol mg fish oil   \n",
       "1  son halfway fourth week intuniv becam concern ...  \n",
       "2  use take anoth oral contracept pill cycl happi...  \n",
       "3  first time use form birth control glad went pa...  \n",
       "4  suboxon complet turn life around feel healthie...  "
      ]
     },
     "execution_count": 23,
     "metadata": {},
     "output_type": "execute_result"
    }
   ],
   "source": [
    "data.shape\n",
    "data.head()"
   ]
  },
  {
   "cell_type": "code",
   "execution_count": 24,
   "id": "755d8636",
   "metadata": {
    "execution": {
     "iopub.execute_input": "2023-12-26T10:17:39.540079Z",
     "iopub.status.busy": "2023-12-26T10:17:39.539618Z",
     "iopub.status.idle": "2023-12-26T10:17:47.766077Z",
     "shell.execute_reply": "2023-12-26T10:17:47.764765Z"
    },
    "papermill": {
     "duration": 8.252695,
     "end_time": "2023-12-26T10:17:47.769297",
     "exception": false,
     "start_time": "2023-12-26T10:17:39.516602",
     "status": "completed"
    },
    "tags": []
   },
   "outputs": [],
   "source": [
    "# simpan data preprocessing\n",
    "data.to_csv('data_preprocessing.csv',index=False)"
   ]
  },
  {
   "cell_type": "markdown",
   "id": "0796549f",
   "metadata": {
    "papermill": {
     "duration": 0.021595,
     "end_time": "2023-12-26T10:17:47.812770",
     "exception": false,
     "start_time": "2023-12-26T10:17:47.791175",
     "status": "completed"
    },
    "tags": []
   },
   "source": [
    "## Sentiment Analysis 'Vader Sentiment'"
   ]
  },
  {
   "cell_type": "code",
   "execution_count": 25,
   "id": "dc1fc2cc",
   "metadata": {
    "execution": {
     "iopub.execute_input": "2023-12-26T10:17:47.858312Z",
     "iopub.status.busy": "2023-12-26T10:17:47.857823Z",
     "iopub.status.idle": "2023-12-26T10:17:47.868918Z",
     "shell.execute_reply": "2023-12-26T10:17:47.867569Z"
    },
    "papermill": {
     "duration": 0.036754,
     "end_time": "2023-12-26T10:17:47.871362",
     "exception": false,
     "start_time": "2023-12-26T10:17:47.834608",
     "status": "completed"
    },
    "tags": []
   },
   "outputs": [
    {
     "name": "stdout",
     "output_type": "stream",
     "text": [
      "[nltk_data] Downloading package vader_lexicon to\n",
      "[nltk_data]     /usr/share/nltk_data...\n",
      "[nltk_data]   Package vader_lexicon is already up-to-date!\n"
     ]
    },
    {
     "data": {
      "text/plain": [
       "True"
      ]
     },
     "execution_count": 25,
     "metadata": {},
     "output_type": "execute_result"
    }
   ],
   "source": [
    "import nltk\n",
    "nltk.download('vader_lexicon')"
   ]
  },
  {
   "cell_type": "code",
   "execution_count": 26,
   "id": "0b6bd8d9",
   "metadata": {
    "execution": {
     "iopub.execute_input": "2023-12-26T10:17:47.917679Z",
     "iopub.status.busy": "2023-12-26T10:17:47.917193Z",
     "iopub.status.idle": "2023-12-26T10:17:51.264887Z",
     "shell.execute_reply": "2023-12-26T10:17:51.263527Z"
    },
    "papermill": {
     "duration": 3.374877,
     "end_time": "2023-12-26T10:17:51.268186",
     "exception": false,
     "start_time": "2023-12-26T10:17:47.893309",
     "status": "completed"
    },
    "tags": []
   },
   "outputs": [
    {
     "name": "stdout",
     "output_type": "stream",
     "text": [
      "(212106, 8)\n"
     ]
    },
    {
     "data": {
      "text/html": [
       "<div>\n",
       "<style scoped>\n",
       "    .dataframe tbody tr th:only-of-type {\n",
       "        vertical-align: middle;\n",
       "    }\n",
       "\n",
       "    .dataframe tbody tr th {\n",
       "        vertical-align: top;\n",
       "    }\n",
       "\n",
       "    .dataframe thead th {\n",
       "        text-align: right;\n",
       "    }\n",
       "</style>\n",
       "<table border=\"1\" class=\"dataframe\">\n",
       "  <thead>\n",
       "    <tr style=\"text-align: right;\">\n",
       "      <th></th>\n",
       "      <th>uniqueID</th>\n",
       "      <th>drugName</th>\n",
       "      <th>condition</th>\n",
       "      <th>review</th>\n",
       "      <th>rating</th>\n",
       "      <th>date</th>\n",
       "      <th>usefulCount</th>\n",
       "      <th>clean_review</th>\n",
       "    </tr>\n",
       "  </thead>\n",
       "  <tbody>\n",
       "    <tr>\n",
       "      <th>0</th>\n",
       "      <td>206461</td>\n",
       "      <td>valsartan</td>\n",
       "      <td>left ventricular dysfunction</td>\n",
       "      <td>\"It has no side effect, I take it in combinati...</td>\n",
       "      <td>9</td>\n",
       "      <td>20-May-12</td>\n",
       "      <td>27</td>\n",
       "      <td>no side effect take combin bystol mg fish oil</td>\n",
       "    </tr>\n",
       "    <tr>\n",
       "      <th>1</th>\n",
       "      <td>95260</td>\n",
       "      <td>guanfacine</td>\n",
       "      <td>adhd</td>\n",
       "      <td>\"My son is halfway through his fourth week of ...</td>\n",
       "      <td>8</td>\n",
       "      <td>27-Apr-10</td>\n",
       "      <td>192</td>\n",
       "      <td>son halfway fourth week intuniv becam concern ...</td>\n",
       "    </tr>\n",
       "    <tr>\n",
       "      <th>2</th>\n",
       "      <td>92703</td>\n",
       "      <td>lybrel</td>\n",
       "      <td>birth control</td>\n",
       "      <td>\"I used to take another oral contraceptive, wh...</td>\n",
       "      <td>5</td>\n",
       "      <td>14-Dec-09</td>\n",
       "      <td>17</td>\n",
       "      <td>use take anoth oral contracept pill cycl happi...</td>\n",
       "    </tr>\n",
       "    <tr>\n",
       "      <th>3</th>\n",
       "      <td>138000</td>\n",
       "      <td>ortho evra</td>\n",
       "      <td>birth control</td>\n",
       "      <td>\"This is my first time using any form of birth...</td>\n",
       "      <td>8</td>\n",
       "      <td>3-Nov-15</td>\n",
       "      <td>10</td>\n",
       "      <td>first time use form birth control glad went pa...</td>\n",
       "    </tr>\n",
       "    <tr>\n",
       "      <th>4</th>\n",
       "      <td>35696</td>\n",
       "      <td>buprenorphine / naloxone</td>\n",
       "      <td>opiate dependence</td>\n",
       "      <td>\"Suboxone has completely turned my life around...</td>\n",
       "      <td>9</td>\n",
       "      <td>27-Nov-16</td>\n",
       "      <td>37</td>\n",
       "      <td>suboxon complet turn life around feel healthie...</td>\n",
       "    </tr>\n",
       "  </tbody>\n",
       "</table>\n",
       "</div>"
      ],
      "text/plain": [
       "   uniqueID                  drugName                     condition  \\\n",
       "0    206461                 valsartan  left ventricular dysfunction   \n",
       "1     95260                guanfacine                          adhd   \n",
       "2     92703                    lybrel                 birth control   \n",
       "3    138000                ortho evra                 birth control   \n",
       "4     35696  buprenorphine / naloxone             opiate dependence   \n",
       "\n",
       "                                              review  rating       date  \\\n",
       "0  \"It has no side effect, I take it in combinati...       9  20-May-12   \n",
       "1  \"My son is halfway through his fourth week of ...       8  27-Apr-10   \n",
       "2  \"I used to take another oral contraceptive, wh...       5  14-Dec-09   \n",
       "3  \"This is my first time using any form of birth...       8   3-Nov-15   \n",
       "4  \"Suboxone has completely turned my life around...       9  27-Nov-16   \n",
       "\n",
       "   usefulCount                                       clean_review  \n",
       "0           27     no side effect take combin bystol mg fish oil   \n",
       "1          192  son halfway fourth week intuniv becam concern ...  \n",
       "2           17  use take anoth oral contracept pill cycl happi...  \n",
       "3           10  first time use form birth control glad went pa...  \n",
       "4           37  suboxon complet turn life around feel healthie...  "
      ]
     },
     "execution_count": 26,
     "metadata": {},
     "output_type": "execute_result"
    }
   ],
   "source": [
    "data = pd.read_csv('/kaggle/input/preprocess/data_preprocessing.csv')\n",
    "\n",
    "print(data.shape)\n",
    "data.head()"
   ]
  },
  {
   "cell_type": "code",
   "execution_count": 27,
   "id": "3664f4d9",
   "metadata": {
    "execution": {
     "iopub.execute_input": "2023-12-26T10:17:51.316806Z",
     "iopub.status.busy": "2023-12-26T10:17:51.316240Z",
     "iopub.status.idle": "2023-12-26T10:18:03.368659Z",
     "shell.execute_reply": "2023-12-26T10:18:03.367120Z"
    },
    "papermill": {
     "duration": 12.081303,
     "end_time": "2023-12-26T10:18:03.372207",
     "exception": false,
     "start_time": "2023-12-26T10:17:51.290904",
     "status": "completed"
    },
    "tags": []
   },
   "outputs": [],
   "source": [
    "import spacy\n",
    "from tqdm import tqdm\n",
    "nlp = spacy.load('en_core_web_lg')"
   ]
  },
  {
   "cell_type": "code",
   "execution_count": 28,
   "id": "9ea73fed",
   "metadata": {
    "execution": {
     "iopub.execute_input": "2023-12-26T10:18:03.425955Z",
     "iopub.status.busy": "2023-12-26T10:18:03.424256Z",
     "iopub.status.idle": "2023-12-26T10:18:03.456819Z",
     "shell.execute_reply": "2023-12-26T10:18:03.455191Z"
    },
    "papermill": {
     "duration": 0.063444,
     "end_time": "2023-12-26T10:18:03.460070",
     "exception": false,
     "start_time": "2023-12-26T10:18:03.396626",
     "status": "completed"
    },
    "tags": []
   },
   "outputs": [
    {
     "name": "stdout",
     "output_type": "stream",
     "text": [
      "['valsartan' 'guanfacine' 'lybrel' ... 'pegaptanib' 'fibercon'\n",
      " 'allergy dn pe']\n"
     ]
    }
   ],
   "source": [
    "# aspek komponen\n",
    "\n",
    "drugs_list = data['drugName'].unique()\n",
    "print(drugs_list)"
   ]
  },
  {
   "cell_type": "code",
   "execution_count": 29,
   "id": "b66b8ff2",
   "metadata": {
    "execution": {
     "iopub.execute_input": "2023-12-26T10:18:03.512876Z",
     "iopub.status.busy": "2023-12-26T10:18:03.512374Z",
     "iopub.status.idle": "2023-12-26T10:20:46.336779Z",
     "shell.execute_reply": "2023-12-26T10:20:46.335442Z"
    },
    "papermill": {
     "duration": 162.88119,
     "end_time": "2023-12-26T10:20:46.364095",
     "exception": false,
     "start_time": "2023-12-26T10:18:03.482905",
     "status": "completed"
    },
    "tags": []
   },
   "outputs": [
    {
     "data": {
      "text/html": [
       "<div>\n",
       "<style scoped>\n",
       "    .dataframe tbody tr th:only-of-type {\n",
       "        vertical-align: middle;\n",
       "    }\n",
       "\n",
       "    .dataframe tbody tr th {\n",
       "        vertical-align: top;\n",
       "    }\n",
       "\n",
       "    .dataframe thead th {\n",
       "        text-align: right;\n",
       "    }\n",
       "</style>\n",
       "<table border=\"1\" class=\"dataframe\">\n",
       "  <thead>\n",
       "    <tr style=\"text-align: right;\">\n",
       "      <th></th>\n",
       "      <th>uniqueID</th>\n",
       "      <th>drugName</th>\n",
       "      <th>condition</th>\n",
       "      <th>review</th>\n",
       "      <th>rating</th>\n",
       "      <th>date</th>\n",
       "      <th>usefulCount</th>\n",
       "      <th>clean_review</th>\n",
       "      <th>skor_sentimen</th>\n",
       "    </tr>\n",
       "  </thead>\n",
       "  <tbody>\n",
       "    <tr>\n",
       "      <th>0</th>\n",
       "      <td>206461</td>\n",
       "      <td>valsartan</td>\n",
       "      <td>left ventricular dysfunction</td>\n",
       "      <td>\"It has no side effect, I take it in combinati...</td>\n",
       "      <td>9</td>\n",
       "      <td>20-May-12</td>\n",
       "      <td>27</td>\n",
       "      <td>no side effect take combin bystol mg fish oil</td>\n",
       "      <td>-0.2960</td>\n",
       "    </tr>\n",
       "    <tr>\n",
       "      <th>1</th>\n",
       "      <td>95260</td>\n",
       "      <td>guanfacine</td>\n",
       "      <td>adhd</td>\n",
       "      <td>\"My son is halfway through his fourth week of ...</td>\n",
       "      <td>8</td>\n",
       "      <td>27-Apr-10</td>\n",
       "      <td>192</td>\n",
       "      <td>son halfway fourth week intuniv becam concern ...</td>\n",
       "      <td>0.6929</td>\n",
       "    </tr>\n",
       "    <tr>\n",
       "      <th>2</th>\n",
       "      <td>92703</td>\n",
       "      <td>lybrel</td>\n",
       "      <td>birth control</td>\n",
       "      <td>\"I used to take another oral contraceptive, wh...</td>\n",
       "      <td>5</td>\n",
       "      <td>14-Dec-09</td>\n",
       "      <td>17</td>\n",
       "      <td>use take anoth oral contracept pill cycl happi...</td>\n",
       "      <td>0.2732</td>\n",
       "    </tr>\n",
       "    <tr>\n",
       "      <th>3</th>\n",
       "      <td>138000</td>\n",
       "      <td>ortho evra</td>\n",
       "      <td>birth control</td>\n",
       "      <td>\"This is my first time using any form of birth...</td>\n",
       "      <td>8</td>\n",
       "      <td>3-Nov-15</td>\n",
       "      <td>10</td>\n",
       "      <td>first time use form birth control glad went pa...</td>\n",
       "      <td>0.1027</td>\n",
       "    </tr>\n",
       "    <tr>\n",
       "      <th>4</th>\n",
       "      <td>35696</td>\n",
       "      <td>buprenorphine / naloxone</td>\n",
       "      <td>opiate dependence</td>\n",
       "      <td>\"Suboxone has completely turned my life around...</td>\n",
       "      <td>9</td>\n",
       "      <td>27-Nov-16</td>\n",
       "      <td>37</td>\n",
       "      <td>suboxon complet turn life around feel healthie...</td>\n",
       "      <td>0.8934</td>\n",
       "    </tr>\n",
       "  </tbody>\n",
       "</table>\n",
       "</div>"
      ],
      "text/plain": [
       "   uniqueID                  drugName                     condition  \\\n",
       "0    206461                 valsartan  left ventricular dysfunction   \n",
       "1     95260                guanfacine                          adhd   \n",
       "2     92703                    lybrel                 birth control   \n",
       "3    138000                ortho evra                 birth control   \n",
       "4     35696  buprenorphine / naloxone             opiate dependence   \n",
       "\n",
       "                                              review  rating       date  \\\n",
       "0  \"It has no side effect, I take it in combinati...       9  20-May-12   \n",
       "1  \"My son is halfway through his fourth week of ...       8  27-Apr-10   \n",
       "2  \"I used to take another oral contraceptive, wh...       5  14-Dec-09   \n",
       "3  \"This is my first time using any form of birth...       8   3-Nov-15   \n",
       "4  \"Suboxone has completely turned my life around...       9  27-Nov-16   \n",
       "\n",
       "   usefulCount                                       clean_review  \\\n",
       "0           27     no side effect take combin bystol mg fish oil    \n",
       "1          192  son halfway fourth week intuniv becam concern ...   \n",
       "2           17  use take anoth oral contracept pill cycl happi...   \n",
       "3           10  first time use form birth control glad went pa...   \n",
       "4           37  suboxon complet turn life around feel healthie...   \n",
       "\n",
       "   skor_sentimen  \n",
       "0        -0.2960  \n",
       "1         0.6929  \n",
       "2         0.2732  \n",
       "3         0.1027  \n",
       "4         0.8934  "
      ]
     },
     "execution_count": 29,
     "metadata": {},
     "output_type": "execute_result"
    }
   ],
   "source": [
    "# menambahkan kolom baru yang berisi skor sentimen untuk kolom clean_review\n",
    "data['clean_review'] = data['clean_review'].astype(str)\n",
    "\n",
    "from nltk.sentiment.vader import SentimentIntensityAnalyzer\n",
    "\n",
    "sid = SentimentIntensityAnalyzer()\n",
    "data['skor_sentimen'] = [sid.polarity_scores(v)['compound'] for v in data['clean_review']]\n",
    "data.head()"
   ]
  },
  {
   "cell_type": "code",
   "execution_count": 30,
   "id": "aac9ee4e",
   "metadata": {
    "execution": {
     "iopub.execute_input": "2023-12-26T10:20:46.413241Z",
     "iopub.status.busy": "2023-12-26T10:20:46.412092Z",
     "iopub.status.idle": "2023-12-26T10:20:46.537030Z",
     "shell.execute_reply": "2023-12-26T10:20:46.535774Z"
    },
    "papermill": {
     "duration": 0.152624,
     "end_time": "2023-12-26T10:20:46.539927",
     "exception": false,
     "start_time": "2023-12-26T10:20:46.387303",
     "status": "completed"
    },
    "tags": []
   },
   "outputs": [
    {
     "data": {
      "text/html": [
       "<div>\n",
       "<style scoped>\n",
       "    .dataframe tbody tr th:only-of-type {\n",
       "        vertical-align: middle;\n",
       "    }\n",
       "\n",
       "    .dataframe tbody tr th {\n",
       "        vertical-align: top;\n",
       "    }\n",
       "\n",
       "    .dataframe thead th {\n",
       "        text-align: right;\n",
       "    }\n",
       "</style>\n",
       "<table border=\"1\" class=\"dataframe\">\n",
       "  <thead>\n",
       "    <tr style=\"text-align: right;\">\n",
       "      <th></th>\n",
       "      <th>uniqueID</th>\n",
       "      <th>drugName</th>\n",
       "      <th>condition</th>\n",
       "      <th>review</th>\n",
       "      <th>rating</th>\n",
       "      <th>date</th>\n",
       "      <th>usefulCount</th>\n",
       "      <th>clean_review</th>\n",
       "      <th>skor_sentimen</th>\n",
       "      <th>sentimen</th>\n",
       "    </tr>\n",
       "  </thead>\n",
       "  <tbody>\n",
       "    <tr>\n",
       "      <th>212086</th>\n",
       "      <td>110775</td>\n",
       "      <td>imodium</td>\n",
       "      <td>diarrhea, acute</td>\n",
       "      <td>\"I&amp;#039;ve had diarrhoea for 3 days now with m...</td>\n",
       "      <td>8</td>\n",
       "      <td>28-Mar-16</td>\n",
       "      <td>6</td>\n",
       "      <td>diarrhoea day minim sleep constant abdomin pai...</td>\n",
       "      <td>-0.8225</td>\n",
       "      <td>0</td>\n",
       "    </tr>\n",
       "    <tr>\n",
       "      <th>212087</th>\n",
       "      <td>199982</td>\n",
       "      <td>varenicline</td>\n",
       "      <td>smoking cessation</td>\n",
       "      <td>\"Horrible! I have been a smoker for 14 years. ...</td>\n",
       "      <td>1</td>\n",
       "      <td>27-Jan-16</td>\n",
       "      <td>12</td>\n",
       "      <td>horribl smoker year tri chantix dream bad slee...</td>\n",
       "      <td>-0.9300</td>\n",
       "      <td>0</td>\n",
       "    </tr>\n",
       "    <tr>\n",
       "      <th>212088</th>\n",
       "      <td>127066</td>\n",
       "      <td>metoclopramide</td>\n",
       "      <td>gerd</td>\n",
       "      <td>\"Glad to have it available to me.\"</td>\n",
       "      <td>8</td>\n",
       "      <td>20-Apr-09</td>\n",
       "      <td>8</td>\n",
       "      <td>glad avail</td>\n",
       "      <td>0.4588</td>\n",
       "      <td>1</td>\n",
       "    </tr>\n",
       "    <tr>\n",
       "      <th>212089</th>\n",
       "      <td>153929</td>\n",
       "      <td>vivitrol</td>\n",
       "      <td>opiate dependence</td>\n",
       "      <td>\"After 16 years of opioid and heroin addiction...</td>\n",
       "      <td>8</td>\n",
       "      <td>18-Jul-16</td>\n",
       "      <td>35</td>\n",
       "      <td>year opioid heroin addict tri everyth methadon...</td>\n",
       "      <td>-0.8957</td>\n",
       "      <td>0</td>\n",
       "    </tr>\n",
       "    <tr>\n",
       "      <th>212090</th>\n",
       "      <td>4705</td>\n",
       "      <td>belviq</td>\n",
       "      <td>weight loss</td>\n",
       "      <td>\"I have had the worst experience with this pil...</td>\n",
       "      <td>1</td>\n",
       "      <td>2-May-15</td>\n",
       "      <td>16</td>\n",
       "      <td>worst experi pill took one pill head start bla...</td>\n",
       "      <td>-0.9035</td>\n",
       "      <td>0</td>\n",
       "    </tr>\n",
       "    <tr>\n",
       "      <th>212091</th>\n",
       "      <td>151266</td>\n",
       "      <td>chantix</td>\n",
       "      <td>smoking cessation</td>\n",
       "      <td>\"I took chantix a little over a month. It made...</td>\n",
       "      <td>1</td>\n",
       "      <td>11-Nov-17</td>\n",
       "      <td>2</td>\n",
       "      <td>took chantix littl month made psychot split ta...</td>\n",
       "      <td>0.5267</td>\n",
       "      <td>1</td>\n",
       "    </tr>\n",
       "    <tr>\n",
       "      <th>212092</th>\n",
       "      <td>212844</td>\n",
       "      <td>sofosbuvir / velpatasvir</td>\n",
       "      <td>hepatitis c</td>\n",
       "      <td>\"After first month of taking Epclusa, I am und...</td>\n",
       "      <td>8</td>\n",
       "      <td>13-Apr-17</td>\n",
       "      <td>12</td>\n",
       "      <td>first month take epclusa undetect</td>\n",
       "      <td>0.0000</td>\n",
       "      <td>neu</td>\n",
       "    </tr>\n",
       "    <tr>\n",
       "      <th>212093</th>\n",
       "      <td>204390</td>\n",
       "      <td>buspar</td>\n",
       "      <td>anxiety</td>\n",
       "      <td>\"Diagnosed with general anxiety disorder.  Wou...</td>\n",
       "      <td>10</td>\n",
       "      <td>25-Feb-16</td>\n",
       "      <td>123</td>\n",
       "      <td>diagnos general anxieti disord would obsess th...</td>\n",
       "      <td>-0.8519</td>\n",
       "      <td>0</td>\n",
       "    </tr>\n",
       "    <tr>\n",
       "      <th>212094</th>\n",
       "      <td>76895</td>\n",
       "      <td>lorcaserin</td>\n",
       "      <td>obesity</td>\n",
       "      <td>\"It didn&amp;#039;t help me at all. I craved choco...</td>\n",
       "      <td>2</td>\n",
       "      <td>15-Aug-15</td>\n",
       "      <td>8</td>\n",
       "      <td>help crave chocol time worth month</td>\n",
       "      <td>0.5574</td>\n",
       "      <td>1</td>\n",
       "    </tr>\n",
       "    <tr>\n",
       "      <th>212095</th>\n",
       "      <td>194823</td>\n",
       "      <td>levetiracetam</td>\n",
       "      <td>epilepsy</td>\n",
       "      <td>\"I now suffer from excessive tiredness and lac...</td>\n",
       "      <td>8</td>\n",
       "      <td>21-Jul-16</td>\n",
       "      <td>5</td>\n",
       "      <td>suffer excess tired lack energi consult gp alt...</td>\n",
       "      <td>-0.8271</td>\n",
       "      <td>0</td>\n",
       "    </tr>\n",
       "    <tr>\n",
       "      <th>212096</th>\n",
       "      <td>193118</td>\n",
       "      <td>dextroamphetamine</td>\n",
       "      <td>adhd</td>\n",
       "      <td>\"Treatment for ADHD save my life. Don&amp;#039;t b...</td>\n",
       "      <td>10</td>\n",
       "      <td>15-Nov-15</td>\n",
       "      <td>36</td>\n",
       "      <td>treatment adhd save life believ hype stigma ar...</td>\n",
       "      <td>0.6808</td>\n",
       "      <td>1</td>\n",
       "    </tr>\n",
       "    <tr>\n",
       "      <th>212097</th>\n",
       "      <td>35261</td>\n",
       "      <td>levofloxacin</td>\n",
       "      <td>bronchitis</td>\n",
       "      <td>\"This is my 3rd time taking this medicine. Fir...</td>\n",
       "      <td>10</td>\n",
       "      <td>26-Oct-14</td>\n",
       "      <td>29</td>\n",
       "      <td>rd time take medicin first time shin bone hurt...</td>\n",
       "      <td>-0.9571</td>\n",
       "      <td>0</td>\n",
       "    </tr>\n",
       "    <tr>\n",
       "      <th>212098</th>\n",
       "      <td>139347</td>\n",
       "      <td>armodafinil</td>\n",
       "      <td>narcolepsy</td>\n",
       "      <td>\"This medicine kept me from sleeping the whole...</td>\n",
       "      <td>1</td>\n",
       "      <td>30-Sep-14</td>\n",
       "      <td>18</td>\n",
       "      <td>medicin kept sleep whole day bodi start shut e...</td>\n",
       "      <td>0.0000</td>\n",
       "      <td>neu</td>\n",
       "    </tr>\n",
       "    <tr>\n",
       "      <th>212099</th>\n",
       "      <td>33495</td>\n",
       "      <td>microgestin fe 1 / 20</td>\n",
       "      <td>birth control</td>\n",
       "      <td>\"I was on Microgestin for about 3 years. Over ...</td>\n",
       "      <td>6</td>\n",
       "      <td>1-Aug-14</td>\n",
       "      <td>15</td>\n",
       "      <td>microgestin year past year start get extrem ba...</td>\n",
       "      <td>-0.0516</td>\n",
       "      <td>0</td>\n",
       "    </tr>\n",
       "    <tr>\n",
       "      <th>212100</th>\n",
       "      <td>123432</td>\n",
       "      <td>apri</td>\n",
       "      <td>birth control</td>\n",
       "      <td>\"I started taking Apri about 7 months ago. My ...</td>\n",
       "      <td>9</td>\n",
       "      <td>25-Aug-10</td>\n",
       "      <td>18</td>\n",
       "      <td>start take apri month ago breat got notic larg...</td>\n",
       "      <td>0.7964</td>\n",
       "      <td>1</td>\n",
       "    </tr>\n",
       "    <tr>\n",
       "      <th>212101</th>\n",
       "      <td>159999</td>\n",
       "      <td>tamoxifen</td>\n",
       "      <td>breast cancer, prevention</td>\n",
       "      <td>\"I have taken Tamoxifen for 5 years. Side effe...</td>\n",
       "      <td>10</td>\n",
       "      <td>13-Sep-14</td>\n",
       "      <td>43</td>\n",
       "      <td>taken tamoxifen year side effect sever sweat d...</td>\n",
       "      <td>-0.8750</td>\n",
       "      <td>0</td>\n",
       "    </tr>\n",
       "    <tr>\n",
       "      <th>212102</th>\n",
       "      <td>140714</td>\n",
       "      <td>escitalopram</td>\n",
       "      <td>anxiety</td>\n",
       "      <td>\"I&amp;#039;ve been taking Lexapro (escitaploprgra...</td>\n",
       "      <td>9</td>\n",
       "      <td>8-Oct-16</td>\n",
       "      <td>11</td>\n",
       "      <td>take lexapro escitaploprgram sinc februari fir...</td>\n",
       "      <td>0.7845</td>\n",
       "      <td>1</td>\n",
       "    </tr>\n",
       "    <tr>\n",
       "      <th>212103</th>\n",
       "      <td>130945</td>\n",
       "      <td>levonorgestrel</td>\n",
       "      <td>birth control</td>\n",
       "      <td>\"I&amp;#039;m married, 34 years old and I have no ...</td>\n",
       "      <td>8</td>\n",
       "      <td>15-Nov-10</td>\n",
       "      <td>7</td>\n",
       "      <td>marri year old no kid take pill hassl decid ge...</td>\n",
       "      <td>-0.9501</td>\n",
       "      <td>0</td>\n",
       "    </tr>\n",
       "    <tr>\n",
       "      <th>212104</th>\n",
       "      <td>47656</td>\n",
       "      <td>tapentadol</td>\n",
       "      <td>pain</td>\n",
       "      <td>\"I was prescribed Nucynta for severe neck/shou...</td>\n",
       "      <td>1</td>\n",
       "      <td>28-Nov-11</td>\n",
       "      <td>20</td>\n",
       "      <td>prescrib nucynta sever neck shoulder pain take...</td>\n",
       "      <td>-0.8519</td>\n",
       "      <td>0</td>\n",
       "    </tr>\n",
       "    <tr>\n",
       "      <th>212105</th>\n",
       "      <td>113712</td>\n",
       "      <td>arthrotec</td>\n",
       "      <td>sciatica</td>\n",
       "      <td>\"It works!!!\"</td>\n",
       "      <td>9</td>\n",
       "      <td>13-Sep-09</td>\n",
       "      <td>46</td>\n",
       "      <td>work</td>\n",
       "      <td>0.0000</td>\n",
       "      <td>neu</td>\n",
       "    </tr>\n",
       "  </tbody>\n",
       "</table>\n",
       "</div>"
      ],
      "text/plain": [
       "        uniqueID                  drugName                  condition  \\\n",
       "212086    110775                   imodium            diarrhea, acute   \n",
       "212087    199982               varenicline          smoking cessation   \n",
       "212088    127066            metoclopramide                       gerd   \n",
       "212089    153929                  vivitrol          opiate dependence   \n",
       "212090      4705                    belviq                weight loss   \n",
       "212091    151266                   chantix          smoking cessation   \n",
       "212092    212844  sofosbuvir / velpatasvir                hepatitis c   \n",
       "212093    204390                    buspar                    anxiety   \n",
       "212094     76895                lorcaserin                    obesity   \n",
       "212095    194823             levetiracetam                   epilepsy   \n",
       "212096    193118         dextroamphetamine                       adhd   \n",
       "212097     35261              levofloxacin                 bronchitis   \n",
       "212098    139347               armodafinil                 narcolepsy   \n",
       "212099     33495     microgestin fe 1 / 20              birth control   \n",
       "212100    123432                      apri              birth control   \n",
       "212101    159999                 tamoxifen  breast cancer, prevention   \n",
       "212102    140714              escitalopram                    anxiety   \n",
       "212103    130945            levonorgestrel              birth control   \n",
       "212104     47656                tapentadol                       pain   \n",
       "212105    113712                 arthrotec                   sciatica   \n",
       "\n",
       "                                                   review  rating       date  \\\n",
       "212086  \"I&#039;ve had diarrhoea for 3 days now with m...       8  28-Mar-16   \n",
       "212087  \"Horrible! I have been a smoker for 14 years. ...       1  27-Jan-16   \n",
       "212088                 \"Glad to have it available to me.\"       8  20-Apr-09   \n",
       "212089  \"After 16 years of opioid and heroin addiction...       8  18-Jul-16   \n",
       "212090  \"I have had the worst experience with this pil...       1   2-May-15   \n",
       "212091  \"I took chantix a little over a month. It made...       1  11-Nov-17   \n",
       "212092  \"After first month of taking Epclusa, I am und...       8  13-Apr-17   \n",
       "212093  \"Diagnosed with general anxiety disorder.  Wou...      10  25-Feb-16   \n",
       "212094  \"It didn&#039;t help me at all. I craved choco...       2  15-Aug-15   \n",
       "212095  \"I now suffer from excessive tiredness and lac...       8  21-Jul-16   \n",
       "212096  \"Treatment for ADHD save my life. Don&#039;t b...      10  15-Nov-15   \n",
       "212097  \"This is my 3rd time taking this medicine. Fir...      10  26-Oct-14   \n",
       "212098  \"This medicine kept me from sleeping the whole...       1  30-Sep-14   \n",
       "212099  \"I was on Microgestin for about 3 years. Over ...       6   1-Aug-14   \n",
       "212100  \"I started taking Apri about 7 months ago. My ...       9  25-Aug-10   \n",
       "212101  \"I have taken Tamoxifen for 5 years. Side effe...      10  13-Sep-14   \n",
       "212102  \"I&#039;ve been taking Lexapro (escitaploprgra...       9   8-Oct-16   \n",
       "212103  \"I&#039;m married, 34 years old and I have no ...       8  15-Nov-10   \n",
       "212104  \"I was prescribed Nucynta for severe neck/shou...       1  28-Nov-11   \n",
       "212105                                      \"It works!!!\"       9  13-Sep-09   \n",
       "\n",
       "        usefulCount                                       clean_review  \\\n",
       "212086            6  diarrhoea day minim sleep constant abdomin pai...   \n",
       "212087           12  horribl smoker year tri chantix dream bad slee...   \n",
       "212088            8                                        glad avail    \n",
       "212089           35  year opioid heroin addict tri everyth methadon...   \n",
       "212090           16  worst experi pill took one pill head start bla...   \n",
       "212091            2  took chantix littl month made psychot split ta...   \n",
       "212092           12                 first month take epclusa undetect    \n",
       "212093          123  diagnos general anxieti disord would obsess th...   \n",
       "212094            8                help crave chocol time worth month    \n",
       "212095            5  suffer excess tired lack energi consult gp alt...   \n",
       "212096           36  treatment adhd save life believ hype stigma ar...   \n",
       "212097           29  rd time take medicin first time shin bone hurt...   \n",
       "212098           18  medicin kept sleep whole day bodi start shut e...   \n",
       "212099           15  microgestin year past year start get extrem ba...   \n",
       "212100           18  start take apri month ago breat got notic larg...   \n",
       "212101           43  taken tamoxifen year side effect sever sweat d...   \n",
       "212102           11  take lexapro escitaploprgram sinc februari fir...   \n",
       "212103            7  marri year old no kid take pill hassl decid ge...   \n",
       "212104           20  prescrib nucynta sever neck shoulder pain take...   \n",
       "212105           46                                              work    \n",
       "\n",
       "        skor_sentimen sentimen  \n",
       "212086        -0.8225        0  \n",
       "212087        -0.9300        0  \n",
       "212088         0.4588        1  \n",
       "212089        -0.8957        0  \n",
       "212090        -0.9035        0  \n",
       "212091         0.5267        1  \n",
       "212092         0.0000      neu  \n",
       "212093        -0.8519        0  \n",
       "212094         0.5574        1  \n",
       "212095        -0.8271        0  \n",
       "212096         0.6808        1  \n",
       "212097        -0.9571        0  \n",
       "212098         0.0000      neu  \n",
       "212099        -0.0516        0  \n",
       "212100         0.7964        1  \n",
       "212101        -0.8750        0  \n",
       "212102         0.7845        1  \n",
       "212103        -0.9501        0  \n",
       "212104        -0.8519        0  \n",
       "212105         0.0000      neu  "
      ]
     },
     "execution_count": 30,
     "metadata": {},
     "output_type": "execute_result"
    }
   ],
   "source": [
    "# klasifikasi sentimen positif , negatif, dan neutral\n",
    "int_sent = []\n",
    "for sent in data['skor_sentimen']:\n",
    "    if sent < 0:\n",
    "        int_sent.append(0)\n",
    "    elif sent > 0:\n",
    "        int_sent.append(1)\n",
    "    else :\n",
    "        int_sent.append('neu')\n",
    "data['sentimen'] = int_sent\n",
    "data.tail(20)"
   ]
  },
  {
   "cell_type": "code",
   "execution_count": 31,
   "id": "eb73d48d",
   "metadata": {
    "execution": {
     "iopub.execute_input": "2023-12-26T10:20:46.589377Z",
     "iopub.status.busy": "2023-12-26T10:20:46.588609Z",
     "iopub.status.idle": "2023-12-26T10:20:46.678749Z",
     "shell.execute_reply": "2023-12-26T10:20:46.677419Z"
    },
    "papermill": {
     "duration": 0.117904,
     "end_time": "2023-12-26T10:20:46.681421",
     "exception": false,
     "start_time": "2023-12-26T10:20:46.563517",
     "status": "completed"
    },
    "tags": []
   },
   "outputs": [
    {
     "data": {
      "text/html": [
       "<div>\n",
       "<style scoped>\n",
       "    .dataframe tbody tr th:only-of-type {\n",
       "        vertical-align: middle;\n",
       "    }\n",
       "\n",
       "    .dataframe tbody tr th {\n",
       "        vertical-align: top;\n",
       "    }\n",
       "\n",
       "    .dataframe thead th {\n",
       "        text-align: right;\n",
       "    }\n",
       "</style>\n",
       "<table border=\"1\" class=\"dataframe\">\n",
       "  <thead>\n",
       "    <tr style=\"text-align: right;\">\n",
       "      <th></th>\n",
       "      <th>uniqueID</th>\n",
       "      <th>drugName</th>\n",
       "      <th>condition</th>\n",
       "      <th>review</th>\n",
       "      <th>rating</th>\n",
       "      <th>date</th>\n",
       "      <th>usefulCount</th>\n",
       "      <th>clean_review</th>\n",
       "      <th>skor_sentimen</th>\n",
       "      <th>sentimen</th>\n",
       "    </tr>\n",
       "  </thead>\n",
       "  <tbody>\n",
       "    <tr>\n",
       "      <th>202778</th>\n",
       "      <td>123432</td>\n",
       "      <td>apri</td>\n",
       "      <td>birth control</td>\n",
       "      <td>\"I started taking Apri about 7 months ago. My ...</td>\n",
       "      <td>9</td>\n",
       "      <td>25-Aug-10</td>\n",
       "      <td>18</td>\n",
       "      <td>start take apri month ago breat got notic larg...</td>\n",
       "      <td>0.7964</td>\n",
       "      <td>1</td>\n",
       "    </tr>\n",
       "    <tr>\n",
       "      <th>202779</th>\n",
       "      <td>159999</td>\n",
       "      <td>tamoxifen</td>\n",
       "      <td>breast cancer, prevention</td>\n",
       "      <td>\"I have taken Tamoxifen for 5 years. Side effe...</td>\n",
       "      <td>10</td>\n",
       "      <td>13-Sep-14</td>\n",
       "      <td>43</td>\n",
       "      <td>taken tamoxifen year side effect sever sweat d...</td>\n",
       "      <td>-0.8750</td>\n",
       "      <td>0</td>\n",
       "    </tr>\n",
       "    <tr>\n",
       "      <th>202780</th>\n",
       "      <td>140714</td>\n",
       "      <td>escitalopram</td>\n",
       "      <td>anxiety</td>\n",
       "      <td>\"I&amp;#039;ve been taking Lexapro (escitaploprgra...</td>\n",
       "      <td>9</td>\n",
       "      <td>8-Oct-16</td>\n",
       "      <td>11</td>\n",
       "      <td>take lexapro escitaploprgram sinc februari fir...</td>\n",
       "      <td>0.7845</td>\n",
       "      <td>1</td>\n",
       "    </tr>\n",
       "    <tr>\n",
       "      <th>202781</th>\n",
       "      <td>130945</td>\n",
       "      <td>levonorgestrel</td>\n",
       "      <td>birth control</td>\n",
       "      <td>\"I&amp;#039;m married, 34 years old and I have no ...</td>\n",
       "      <td>8</td>\n",
       "      <td>15-Nov-10</td>\n",
       "      <td>7</td>\n",
       "      <td>marri year old no kid take pill hassl decid ge...</td>\n",
       "      <td>-0.9501</td>\n",
       "      <td>0</td>\n",
       "    </tr>\n",
       "    <tr>\n",
       "      <th>202782</th>\n",
       "      <td>47656</td>\n",
       "      <td>tapentadol</td>\n",
       "      <td>pain</td>\n",
       "      <td>\"I was prescribed Nucynta for severe neck/shou...</td>\n",
       "      <td>1</td>\n",
       "      <td>28-Nov-11</td>\n",
       "      <td>20</td>\n",
       "      <td>prescrib nucynta sever neck shoulder pain take...</td>\n",
       "      <td>-0.8519</td>\n",
       "      <td>0</td>\n",
       "    </tr>\n",
       "  </tbody>\n",
       "</table>\n",
       "</div>"
      ],
      "text/plain": [
       "        uniqueID        drugName                  condition  \\\n",
       "202778    123432            apri              birth control   \n",
       "202779    159999       tamoxifen  breast cancer, prevention   \n",
       "202780    140714    escitalopram                    anxiety   \n",
       "202781    130945  levonorgestrel              birth control   \n",
       "202782     47656      tapentadol                       pain   \n",
       "\n",
       "                                                   review  rating       date  \\\n",
       "202778  \"I started taking Apri about 7 months ago. My ...       9  25-Aug-10   \n",
       "202779  \"I have taken Tamoxifen for 5 years. Side effe...      10  13-Sep-14   \n",
       "202780  \"I&#039;ve been taking Lexapro (escitaploprgra...       9   8-Oct-16   \n",
       "202781  \"I&#039;m married, 34 years old and I have no ...       8  15-Nov-10   \n",
       "202782  \"I was prescribed Nucynta for severe neck/shou...       1  28-Nov-11   \n",
       "\n",
       "        usefulCount                                       clean_review  \\\n",
       "202778           18  start take apri month ago breat got notic larg...   \n",
       "202779           43  taken tamoxifen year side effect sever sweat d...   \n",
       "202780           11  take lexapro escitaploprgram sinc februari fir...   \n",
       "202781            7  marri year old no kid take pill hassl decid ge...   \n",
       "202782           20  prescrib nucynta sever neck shoulder pain take...   \n",
       "\n",
       "        skor_sentimen sentimen  \n",
       "202778         0.7964        1  \n",
       "202779        -0.8750        0  \n",
       "202780         0.7845        1  \n",
       "202781        -0.9501        0  \n",
       "202782        -0.8519        0  "
      ]
     },
     "execution_count": 31,
     "metadata": {},
     "output_type": "execute_result"
    }
   ],
   "source": [
    "data = data[data['sentimen'] != 'neu']\n",
    "\n",
    "data.reset_index(inplace=True,drop=True)\n",
    "data.tail()"
   ]
  },
  {
   "cell_type": "code",
   "execution_count": 32,
   "id": "56d001a9",
   "metadata": {
    "execution": {
     "iopub.execute_input": "2023-12-26T10:20:46.731442Z",
     "iopub.status.busy": "2023-12-26T10:20:46.730679Z",
     "iopub.status.idle": "2023-12-26T10:20:47.018180Z",
     "shell.execute_reply": "2023-12-26T10:20:47.016924Z"
    },
    "papermill": {
     "duration": 0.315994,
     "end_time": "2023-12-26T10:20:47.021029",
     "exception": false,
     "start_time": "2023-12-26T10:20:46.705035",
     "status": "completed"
    },
    "tags": []
   },
   "outputs": [
    {
     "data": {
      "image/png": "[encoded data removed]",
      "text/plain": [
       "<Figure size 1000x500 with 1 Axes>"
      ]
     },
     "metadata": {},
     "output_type": "display_data"
    }
   ],
   "source": [
    "import matplotlib.pyplot as plt\n",
    "\n",
    "sent_counts = dict(data['sentimen'].value_counts())\n",
    "count = list(sent_counts.values())\n",
    "labels = list(sent_counts.keys())\n",
    "plt.figure(figsize=(10,5))\n",
    "plt.pie(count,labels=labels, autopct='%1.1f%%')\n",
    "plt.title('Pie Chart Sentiment Positif \"1\" & Negatif \"0\"')\n",
    "plt.legend(title='Sentiments')\n",
    "plt.show()"
   ]
  },
  {
   "cell_type": "code",
   "execution_count": 33,
   "id": "d6b1fce8",
   "metadata": {
    "execution": {
     "iopub.execute_input": "2023-12-26T10:20:47.072611Z",
     "iopub.status.busy": "2023-12-26T10:20:47.071803Z",
     "iopub.status.idle": "2023-12-26T10:20:47.077019Z",
     "shell.execute_reply": "2023-12-26T10:20:47.076164Z"
    },
    "papermill": {
     "duration": 0.03374,
     "end_time": "2023-12-26T10:20:47.079328",
     "exception": false,
     "start_time": "2023-12-26T10:20:47.045588",
     "status": "completed"
    },
    "tags": []
   },
   "outputs": [],
   "source": [
    "## Under Sampling\n",
    "# class_counts = data['int_sent'].value_counts()\n",
    "# class_major = class_counts.max()\n",
    "# pd.concat([data[data['int_sent'] == label].sample(class_major, replace=True) for label in class_counts.index])"
   ]
  },
  {
   "cell_type": "code",
   "execution_count": 34,
   "id": "283e28a6",
   "metadata": {
    "execution": {
     "iopub.execute_input": "2023-12-26T10:20:47.134397Z",
     "iopub.status.busy": "2023-12-26T10:20:47.133473Z",
     "iopub.status.idle": "2023-12-26T10:20:55.845324Z",
     "shell.execute_reply": "2023-12-26T10:20:55.843998Z"
    },
    "papermill": {
     "duration": 8.742517,
     "end_time": "2023-12-26T10:20:55.848619",
     "exception": false,
     "start_time": "2023-12-26T10:20:47.106102",
     "status": "completed"
    },
    "tags": []
   },
   "outputs": [],
   "source": [
    "data.to_csv('final_data.csv',index=False)"
   ]
  },
  {
   "cell_type": "markdown",
   "id": "277379fa",
   "metadata": {
    "papermill": {
     "duration": 0.023888,
     "end_time": "2023-12-26T10:20:55.897690",
     "exception": false,
     "start_time": "2023-12-26T10:20:55.873802",
     "status": "completed"
    },
    "tags": []
   },
   "source": [
    "## Modelling"
   ]
  },
  {
   "cell_type": "code",
   "execution_count": 35,
   "id": "5c851849",
   "metadata": {
    "execution": {
     "iopub.execute_input": "2023-12-26T10:20:55.948660Z",
     "iopub.status.busy": "2023-12-26T10:20:55.948137Z",
     "iopub.status.idle": "2023-12-26T10:20:58.257443Z",
     "shell.execute_reply": "2023-12-26T10:20:58.256120Z"
    },
    "papermill": {
     "duration": 2.338494,
     "end_time": "2023-12-26T10:20:58.260552",
     "exception": false,
     "start_time": "2023-12-26T10:20:55.922058",
     "status": "completed"
    },
    "tags": []
   },
   "outputs": [
    {
     "data": {
      "text/html": [
       "<div>\n",
       "<style scoped>\n",
       "    .dataframe tbody tr th:only-of-type {\n",
       "        vertical-align: middle;\n",
       "    }\n",
       "\n",
       "    .dataframe tbody tr th {\n",
       "        vertical-align: top;\n",
       "    }\n",
       "\n",
       "    .dataframe thead th {\n",
       "        text-align: right;\n",
       "    }\n",
       "</style>\n",
       "<table border=\"1\" class=\"dataframe\">\n",
       "  <thead>\n",
       "    <tr style=\"text-align: right;\">\n",
       "      <th></th>\n",
       "      <th>uniqueID</th>\n",
       "      <th>drugName</th>\n",
       "      <th>condition</th>\n",
       "      <th>review</th>\n",
       "      <th>rating</th>\n",
       "      <th>date</th>\n",
       "      <th>usefulCount</th>\n",
       "      <th>clean_review</th>\n",
       "      <th>skor_sentimen</th>\n",
       "      <th>sentimen</th>\n",
       "    </tr>\n",
       "  </thead>\n",
       "  <tbody>\n",
       "    <tr>\n",
       "      <th>202778</th>\n",
       "      <td>123432</td>\n",
       "      <td>apri</td>\n",
       "      <td>birth control</td>\n",
       "      <td>\"I started taking Apri about 7 months ago. My ...</td>\n",
       "      <td>9</td>\n",
       "      <td>25-Aug-10</td>\n",
       "      <td>18</td>\n",
       "      <td>start take apri month ago breat got notic larg...</td>\n",
       "      <td>0.7964</td>\n",
       "      <td>1</td>\n",
       "    </tr>\n",
       "    <tr>\n",
       "      <th>202779</th>\n",
       "      <td>159999</td>\n",
       "      <td>tamoxifen</td>\n",
       "      <td>breast cancer, prevention</td>\n",
       "      <td>\"I have taken Tamoxifen for 5 years. Side effe...</td>\n",
       "      <td>10</td>\n",
       "      <td>13-Sep-14</td>\n",
       "      <td>43</td>\n",
       "      <td>taken tamoxifen year side effect sever sweat d...</td>\n",
       "      <td>-0.8750</td>\n",
       "      <td>0</td>\n",
       "    </tr>\n",
       "    <tr>\n",
       "      <th>202780</th>\n",
       "      <td>140714</td>\n",
       "      <td>escitalopram</td>\n",
       "      <td>anxiety</td>\n",
       "      <td>\"I&amp;#039;ve been taking Lexapro (escitaploprgra...</td>\n",
       "      <td>9</td>\n",
       "      <td>8-Oct-16</td>\n",
       "      <td>11</td>\n",
       "      <td>take lexapro escitaploprgram sinc februari fir...</td>\n",
       "      <td>0.7845</td>\n",
       "      <td>1</td>\n",
       "    </tr>\n",
       "    <tr>\n",
       "      <th>202781</th>\n",
       "      <td>130945</td>\n",
       "      <td>levonorgestrel</td>\n",
       "      <td>birth control</td>\n",
       "      <td>\"I&amp;#039;m married, 34 years old and I have no ...</td>\n",
       "      <td>8</td>\n",
       "      <td>15-Nov-10</td>\n",
       "      <td>7</td>\n",
       "      <td>marri year old no kid take pill hassl decid ge...</td>\n",
       "      <td>-0.9501</td>\n",
       "      <td>0</td>\n",
       "    </tr>\n",
       "    <tr>\n",
       "      <th>202782</th>\n",
       "      <td>47656</td>\n",
       "      <td>tapentadol</td>\n",
       "      <td>pain</td>\n",
       "      <td>\"I was prescribed Nucynta for severe neck/shou...</td>\n",
       "      <td>1</td>\n",
       "      <td>28-Nov-11</td>\n",
       "      <td>20</td>\n",
       "      <td>prescrib nucynta sever neck shoulder pain take...</td>\n",
       "      <td>-0.8519</td>\n",
       "      <td>0</td>\n",
       "    </tr>\n",
       "  </tbody>\n",
       "</table>\n",
       "</div>"
      ],
      "text/plain": [
       "        uniqueID        drugName                  condition  \\\n",
       "202778    123432            apri              birth control   \n",
       "202779    159999       tamoxifen  breast cancer, prevention   \n",
       "202780    140714    escitalopram                    anxiety   \n",
       "202781    130945  levonorgestrel              birth control   \n",
       "202782     47656      tapentadol                       pain   \n",
       "\n",
       "                                                   review  rating       date  \\\n",
       "202778  \"I started taking Apri about 7 months ago. My ...       9  25-Aug-10   \n",
       "202779  \"I have taken Tamoxifen for 5 years. Side effe...      10  13-Sep-14   \n",
       "202780  \"I&#039;ve been taking Lexapro (escitaploprgra...       9   8-Oct-16   \n",
       "202781  \"I&#039;m married, 34 years old and I have no ...       8  15-Nov-10   \n",
       "202782  \"I was prescribed Nucynta for severe neck/shou...       1  28-Nov-11   \n",
       "\n",
       "        usefulCount                                       clean_review  \\\n",
       "202778           18  start take apri month ago breat got notic larg...   \n",
       "202779           43  taken tamoxifen year side effect sever sweat d...   \n",
       "202780           11  take lexapro escitaploprgram sinc februari fir...   \n",
       "202781            7  marri year old no kid take pill hassl decid ge...   \n",
       "202782           20  prescrib nucynta sever neck shoulder pain take...   \n",
       "\n",
       "        skor_sentimen  sentimen  \n",
       "202778         0.7964         1  \n",
       "202779        -0.8750         0  \n",
       "202780         0.7845         1  \n",
       "202781        -0.9501         0  \n",
       "202782        -0.8519         0  "
      ]
     },
     "execution_count": 35,
     "metadata": {},
     "output_type": "execute_result"
    }
   ],
   "source": [
    "data =  pd.read_csv('final_data.csv')\n",
    "data.tail()"
   ]
  },
  {
   "cell_type": "code",
   "execution_count": 36,
   "id": "061930e7",
   "metadata": {
    "execution": {
     "iopub.execute_input": "2023-12-26T10:20:58.315595Z",
     "iopub.status.busy": "2023-12-26T10:20:58.315051Z",
     "iopub.status.idle": "2023-12-26T10:20:58.462582Z",
     "shell.execute_reply": "2023-12-26T10:20:58.461121Z"
    },
    "papermill": {
     "duration": 0.179201,
     "end_time": "2023-12-26T10:20:58.465861",
     "exception": false,
     "start_time": "2023-12-26T10:20:58.286660",
     "status": "completed"
    },
    "tags": []
   },
   "outputs": [],
   "source": [
    "# encode kolom condition dan drugName\n",
    "\n",
    "from sklearn.preprocessing import LabelEncoder\n",
    "label_encoder = LabelEncoder()\n",
    "data['condition'] = label_encoder.fit_transform(data['condition'])\n",
    "data['drugName'] = label_encoder.fit_transform(data['drugName'])"
   ]
  },
  {
   "cell_type": "markdown",
   "id": "8f89f8d1",
   "metadata": {
    "papermill": {
     "duration": 0.024734,
     "end_time": "2023-12-26T10:20:58.515391",
     "exception": false,
     "start_time": "2023-12-26T10:20:58.490657",
     "status": "completed"
    },
    "tags": []
   },
   "source": [
    "## Word2Vec"
   ]
  },
  {
   "cell_type": "code",
   "execution_count": 37,
   "id": "b4d85f21",
   "metadata": {
    "execution": {
     "iopub.execute_input": "2023-12-26T10:20:58.567012Z",
     "iopub.status.busy": "2023-12-26T10:20:58.566509Z",
     "iopub.status.idle": "2023-12-26T10:22:24.155269Z",
     "shell.execute_reply": "2023-12-26T10:22:24.154080Z"
    },
    "papermill": {
     "duration": 85.618285,
     "end_time": "2023-12-26T10:22:24.158543",
     "exception": false,
     "start_time": "2023-12-26T10:20:58.540258",
     "status": "completed"
    },
    "tags": []
   },
   "outputs": [
    {
     "name": "stderr",
     "output_type": "stream",
     "text": [
      "100%|██████████| 202783/202783 [00:02<00:00, 82208.04it/s]\n"
     ]
    }
   ],
   "source": [
    "from gensim.models import Word2Vec\n",
    "from tqdm import tqdm\n",
    "sentences = []\n",
    "for r in tqdm(data['clean_review']):\n",
    "    sentences.append(r.split())\n",
    "model_W2V = Word2Vec(sentences,vector_size=300,workers=12,min_count=1)\n",
    "model_W2V.save('word2vec.bin')\n",
    "model_W2V = Word2Vec.load('word2vec.bin')"
   ]
  },
  {
   "cell_type": "code",
   "execution_count": 38,
   "id": "1ef64f3f",
   "metadata": {
    "execution": {
     "iopub.execute_input": "2023-12-26T10:22:24.216046Z",
     "iopub.status.busy": "2023-12-26T10:22:24.215496Z",
     "iopub.status.idle": "2023-12-26T10:22:24.222795Z",
     "shell.execute_reply": "2023-12-26T10:22:24.221454Z"
    },
    "papermill": {
     "duration": 0.039605,
     "end_time": "2023-12-26T10:22:24.225388",
     "exception": false,
     "start_time": "2023-12-26T10:22:24.185783",
     "status": "completed"
    },
    "tags": []
   },
   "outputs": [],
   "source": [
    "def create_w2v(df,feature):\n",
    "    w2v_vector =[]\n",
    "    for review in df[feature]:\n",
    "        vector = np.zeros(300)\n",
    "\n",
    "        for word in review.split():\n",
    "            if word in model_W2V.wv.key_to_index:\n",
    "                vector += model_W2V.wv[word]\n",
    "\n",
    "        w2v_vector.append(vector)\n",
    "    w2v_vector = np.array(w2v_vector)\n",
    "    return w2v_vector"
   ]
  },
  {
   "cell_type": "code",
   "execution_count": 39,
   "id": "7738218e",
   "metadata": {
    "execution": {
     "iopub.execute_input": "2023-12-26T10:22:24.283724Z",
     "iopub.status.busy": "2023-12-26T10:22:24.282774Z",
     "iopub.status.idle": "2023-12-26T10:23:14.380654Z",
     "shell.execute_reply": "2023-12-26T10:23:14.379371Z"
    },
    "papermill": {
     "duration": 50.157482,
     "end_time": "2023-12-26T10:23:14.410434",
     "exception": false,
     "start_time": "2023-12-26T10:22:24.252952",
     "status": "completed"
    },
    "tags": []
   },
   "outputs": [
    {
     "data": {
      "text/plain": [
       "(202783, 300)"
      ]
     },
     "execution_count": 39,
     "metadata": {},
     "output_type": "execute_result"
    }
   ],
   "source": [
    "x = create_w2v(data,'clean_review')\n",
    "x.shape"
   ]
  },
  {
   "cell_type": "code",
   "execution_count": 40,
   "id": "e9dce5a3",
   "metadata": {
    "execution": {
     "iopub.execute_input": "2023-12-26T10:23:14.468513Z",
     "iopub.status.busy": "2023-12-26T10:23:14.467562Z",
     "iopub.status.idle": "2023-12-26T10:23:14.473017Z",
     "shell.execute_reply": "2023-12-26T10:23:14.472049Z"
    },
    "papermill": {
     "duration": 0.037878,
     "end_time": "2023-12-26T10:23:14.475635",
     "exception": false,
     "start_time": "2023-12-26T10:23:14.437757",
     "status": "completed"
    },
    "tags": []
   },
   "outputs": [],
   "source": [
    "y = data['sentimen'].values"
   ]
  },
  {
   "cell_type": "code",
   "execution_count": 41,
   "id": "9f1918d4",
   "metadata": {
    "execution": {
     "iopub.execute_input": "2023-12-26T10:23:14.534555Z",
     "iopub.status.busy": "2023-12-26T10:23:14.533668Z",
     "iopub.status.idle": "2023-12-26T10:23:14.538193Z",
     "shell.execute_reply": "2023-12-26T10:23:14.537374Z"
    },
    "papermill": {
     "duration": 0.035695,
     "end_time": "2023-12-26T10:23:14.540545",
     "exception": false,
     "start_time": "2023-12-26T10:23:14.504850",
     "status": "completed"
    },
    "tags": []
   },
   "outputs": [],
   "source": [
    "## Over Sampling \n",
    "\n",
    "# from imblearn.over_sampling import RandomOverSampler\n",
    "\n",
    "# # Inisialisasi RandomOverSampler\n",
    "# ros = RandomOverSampler(random_state=0)\n",
    "# # Melakukan oversampling pada data \n",
    "# x_resampled, y_resampled = ros.fit_resample(x, y)\n"
   ]
  },
  {
   "cell_type": "markdown",
   "id": "484c81fd",
   "metadata": {
    "papermill": {
     "duration": 0.027604,
     "end_time": "2023-12-26T10:23:14.595423",
     "exception": false,
     "start_time": "2023-12-26T10:23:14.567819",
     "status": "completed"
    },
    "tags": []
   },
   "source": [
    "## Splitting Data X dan Y"
   ]
  },
  {
   "cell_type": "code",
   "execution_count": 42,
   "id": "cb57282c",
   "metadata": {
    "execution": {
     "iopub.execute_input": "2023-12-26T10:23:14.657386Z",
     "iopub.status.busy": "2023-12-26T10:23:14.656756Z",
     "iopub.status.idle": "2023-12-26T10:23:14.860971Z",
     "shell.execute_reply": "2023-12-26T10:23:14.859569Z"
    },
    "papermill": {
     "duration": 0.236604,
     "end_time": "2023-12-26T10:23:14.864566",
     "exception": false,
     "start_time": "2023-12-26T10:23:14.627962",
     "status": "completed"
    },
    "tags": []
   },
   "outputs": [],
   "source": [
    "from sklearn.model_selection import train_test_split\n",
    "\n",
    "X_train, X_test, y_train, y_test = train_test_split(x,y,stratify=y,test_size=0.20,random_state=42)"
   ]
  },
  {
   "cell_type": "code",
   "execution_count": 43,
   "id": "2a5313c9",
   "metadata": {
    "execution": {
     "iopub.execute_input": "2023-12-26T10:23:14.923104Z",
     "iopub.status.busy": "2023-12-26T10:23:14.922567Z",
     "iopub.status.idle": "2023-12-26T10:55:05.202524Z",
     "shell.execute_reply": "2023-12-26T10:55:05.200975Z"
    },
    "papermill": {
     "duration": 1910.339404,
     "end_time": "2023-12-26T10:55:05.232430",
     "exception": false,
     "start_time": "2023-12-26T10:23:14.893026",
     "status": "completed"
    },
    "tags": []
   },
   "outputs": [
    {
     "data": {
      "text/html": [
       "<style>#sk-container-id-1 {color: black;background-color: white;}#sk-container-id-1 pre{padding: 0;}#sk-container-id-1 div.sk-toggleable {background-color: white;}#sk-container-id-1 label.sk-toggleable__label {cursor: pointer;display: block;width: 100%;margin-bottom: 0;padding: 0.3em;box-sizing: border-box;text-align: center;}#sk-container-id-1 label.sk-toggleable__label-arrow:before {content: \"▸\";float: left;margin-right: 0.25em;color: #696969;}#sk-container-id-1 label.sk-toggleable__label-arrow:hover:before {color: black;}#sk-container-id-1 div.sk-estimator:hover label.sk-toggleable__label-arrow:before {color: black;}#sk-container-id-1 div.sk-toggleable__content {max-height: 0;max-width: 0;overflow: hidden;text-align: left;background-color: #f0f8ff;}#sk-container-id-1 div.sk-toggleable__content pre {margin: 0.2em;color: black;border-radius: 0.25em;background-color: #f0f8ff;}#sk-container-id-1 input.sk-toggleable__control:checked~div.sk-toggleable__content {max-height: 200px;max-width: 100%;overflow: auto;}#sk-container-id-1 input.sk-toggleable__control:checked~label.sk-toggleable__label-arrow:before {content: \"▾\";}#sk-container-id-1 div.sk-estimator input.sk-toggleable__control:checked~label.sk-toggleable__label {background-color: #d4ebff;}#sk-container-id-1 div.sk-label input.sk-toggleable__control:checked~label.sk-toggleable__label {background-color: #d4ebff;}#sk-container-id-1 input.sk-hidden--visually {border: 0;clip: rect(1px 1px 1px 1px);clip: rect(1px, 1px, 1px, 1px);height: 1px;margin: -1px;overflow: hidden;padding: 0;position: absolute;width: 1px;}#sk-container-id-1 div.sk-estimator {font-family: monospace;background-color: #f0f8ff;border: 1px dotted black;border-radius: 0.25em;box-sizing: border-box;margin-bottom: 0.5em;}#sk-container-id-1 div.sk-estimator:hover {background-color: #d4ebff;}#sk-container-id-1 div.sk-parallel-item::after {content: \"\";width: 100%;border-bottom: 1px solid gray;flex-grow: 1;}#sk-container-id-1 div.sk-label:hover label.sk-toggleable__label {background-color: #d4ebff;}#sk-container-id-1 div.sk-serial::before {content: \"\";position: absolute;border-left: 1px solid gray;box-sizing: border-box;top: 0;bottom: 0;left: 50%;z-index: 0;}#sk-container-id-1 div.sk-serial {display: flex;flex-direction: column;align-items: center;background-color: white;padding-right: 0.2em;padding-left: 0.2em;position: relative;}#sk-container-id-1 div.sk-item {position: relative;z-index: 1;}#sk-container-id-1 div.sk-parallel {display: flex;align-items: stretch;justify-content: center;background-color: white;position: relative;}#sk-container-id-1 div.sk-item::before, #sk-container-id-1 div.sk-parallel-item::before {content: \"\";position: absolute;border-left: 1px solid gray;box-sizing: border-box;top: 0;bottom: 0;left: 50%;z-index: -1;}#sk-container-id-1 div.sk-parallel-item {display: flex;flex-direction: column;z-index: 1;position: relative;background-color: white;}#sk-container-id-1 div.sk-parallel-item:first-child::after {align-self: flex-end;width: 50%;}#sk-container-id-1 div.sk-parallel-item:last-child::after {align-self: flex-start;width: 50%;}#sk-container-id-1 div.sk-parallel-item:only-child::after {width: 0;}#sk-container-id-1 div.sk-dashed-wrapped {border: 1px dashed gray;margin: 0 0.4em 0.5em 0.4em;box-sizing: border-box;padding-bottom: 0.4em;background-color: white;}#sk-container-id-1 div.sk-label label {font-family: monospace;font-weight: bold;display: inline-block;line-height: 1.2em;}#sk-container-id-1 div.sk-label-container {text-align: center;}#sk-container-id-1 div.sk-container {/* jupyter's `normalize.less` sets `[hidden] { display: none; }` but bootstrap.min.css set `[hidden] { display: none !important; }` so we also need the `!important` here to be able to override the default hidden behavior on the sphinx rendered scikit-learn.org. See: https://github.com/scikit-learn/scikit-learn/issues/21755 */display: inline-block !important;position: relative;}#sk-container-id-1 div.sk-text-repr-fallback {display: none;}</style><div id=\"sk-container-id-1\" class=\"sk-top-container\"><div class=\"sk-text-repr-fallback\"><pre>XGBClassifier(base_score=None, booster=None, callbacks=None,\n",
       "              colsample_bylevel=None, colsample_bynode=None,\n",
       "              colsample_bytree=0.8, device=None, early_stopping_rounds=None,\n",
       "              enable_categorical=False, eval_metric=None, feature_types=None,\n",
       "              gamma=None, grow_policy=None, importance_type=None,\n",
       "              interaction_constraints=None, learning_rate=0.01, max_bin=None,\n",
       "              max_cat_threshold=None, max_cat_to_onehot=None,\n",
       "              max_delta_step=None, max_depth=7, max_leaves=None,\n",
       "              min_child_weight=None, missing=nan, monotone_constraints=None,\n",
       "              multi_strategy=None, n_estimators=5000, n_jobs=None,\n",
       "              num_parallel_tree=None, random_state=None, ...)</pre><b>In a Jupyter environment, please rerun this cell to show the HTML representation or trust the notebook. <br />On GitHub, the HTML representation is unable to render, please try loading this page with nbviewer.org.</b></div><div class=\"sk-container\" hidden><div class=\"sk-item\"><div class=\"sk-estimator sk-toggleable\"><input class=\"sk-toggleable__control sk-hidden--visually\" id=\"sk-estimator-id-1\" type=\"checkbox\" checked><label for=\"sk-estimator-id-1\" class=\"sk-toggleable__label sk-toggleable__label-arrow\">XGBClassifier</label><div class=\"sk-toggleable__content\"><pre>XGBClassifier(base_score=None, booster=None, callbacks=None,\n",
       "              colsample_bylevel=None, colsample_bynode=None,\n",
       "              colsample_bytree=0.8, device=None, early_stopping_rounds=None,\n",
       "              enable_categorical=False, eval_metric=None, feature_types=None,\n",
       "              gamma=None, grow_policy=None, importance_type=None,\n",
       "              interaction_constraints=None, learning_rate=0.01, max_bin=None,\n",
       "              max_cat_threshold=None, max_cat_to_onehot=None,\n",
       "              max_delta_step=None, max_depth=7, max_leaves=None,\n",
       "              min_child_weight=None, missing=nan, monotone_constraints=None,\n",
       "              multi_strategy=None, n_estimators=5000, n_jobs=None,\n",
       "              num_parallel_tree=None, random_state=None, ...)</pre></div></div></div></div></div>"
      ],
      "text/plain": [
       "XGBClassifier(base_score=None, booster=None, callbacks=None,\n",
       "              colsample_bylevel=None, colsample_bynode=None,\n",
       "              colsample_bytree=0.8, device=None, early_stopping_rounds=None,\n",
       "              enable_categorical=False, eval_metric=None, feature_types=None,\n",
       "              gamma=None, grow_policy=None, importance_type=None,\n",
       "              interaction_constraints=None, learning_rate=0.01, max_bin=None,\n",
       "              max_cat_threshold=None, max_cat_to_onehot=None,\n",
       "              max_delta_step=None, max_depth=7, max_leaves=None,\n",
       "              min_child_weight=None, missing=nan, monotone_constraints=None,\n",
       "              multi_strategy=None, n_estimators=5000, n_jobs=None,\n",
       "              num_parallel_tree=None, random_state=None, ...)"
      ]
     },
     "execution_count": 43,
     "metadata": {},
     "output_type": "execute_result"
    }
   ],
   "source": [
    "from xgboost import XGBClassifier\n",
    "model_XGB = XGBClassifier(n_estimators=5000,subsample=0.8,max_depth=7, colsample_bytree = 0.8, learning_rate = 0.01)\n",
    "model_XGB.fit(X_train,y_train)"
   ]
  },
  {
   "cell_type": "code",
   "execution_count": 44,
   "id": "2df0828d",
   "metadata": {
    "execution": {
     "iopub.execute_input": "2023-12-26T10:55:05.289463Z",
     "iopub.status.busy": "2023-12-26T10:55:05.288135Z",
     "iopub.status.idle": "2023-12-26T10:55:33.042298Z",
     "shell.execute_reply": "2023-12-26T10:55:33.040761Z"
    },
    "papermill": {
     "duration": 27.78604,
     "end_time": "2023-12-26T10:55:33.045413",
     "exception": false,
     "start_time": "2023-12-26T10:55:05.259373",
     "status": "completed"
    },
    "tags": []
   },
   "outputs": [
    {
     "name": "stdout",
     "output_type": "stream",
     "text": [
      "Akurasi model: 90.83%\n",
      "Akurasi training: 98.72%\n"
     ]
    }
   ],
   "source": [
    "from sklearn.metrics import accuracy_score\n",
    "\n",
    "# Evaluasi performa model\n",
    "y_pred = model_XGB.predict(X_test)\n",
    "accuracy = accuracy_score(y_test, y_pred)\n",
    "print(\"Akurasi model: {:.2f}%\".format(accuracy * 100))\n",
    "\n",
    "# Evaluasi training\n",
    "y_pred_tr = model_XGB.predict(X_train)\n",
    "accuracy_train= accuracy_score(y_train, y_pred_tr)\n",
    "print(\"Akurasi training: {:.2f}%\".format(accuracy_train * 100))"
   ]
  },
  {
   "cell_type": "code",
   "execution_count": 45,
   "id": "f6f3fe0a",
   "metadata": {
    "execution": {
     "iopub.execute_input": "2023-12-26T10:55:33.104271Z",
     "iopub.status.busy": "2023-12-26T10:55:33.103159Z",
     "iopub.status.idle": "2023-12-26T10:55:33.191670Z",
     "shell.execute_reply": "2023-12-26T10:55:33.189965Z"
    },
    "papermill": {
     "duration": 0.12106,
     "end_time": "2023-12-26T10:55:33.194899",
     "exception": false,
     "start_time": "2023-12-26T10:55:33.073839",
     "status": "completed"
    },
    "tags": []
   },
   "outputs": [
    {
     "name": "stdout",
     "output_type": "stream",
     "text": [
      "\n",
      "Classification Report:\n",
      "              precision    recall  f1-score   support\n",
      "\n",
      "           0       0.91      0.91      0.91     19979\n",
      "           1       0.91      0.91      0.91     20578\n",
      "\n",
      "    accuracy                           0.91     40557\n",
      "   macro avg       0.91      0.91      0.91     40557\n",
      "weighted avg       0.91      0.91      0.91     40557\n",
      "\n"
     ]
    }
   ],
   "source": [
    "from sklearn.metrics import classification_report\n",
    "# Tampilkan classification report\n",
    "class_report = classification_report(y_test, y_pred)\n",
    "print(\"\\nClassification Report:\")\n",
    "print(class_report)"
   ]
  },
  {
   "cell_type": "markdown",
   "id": "98e0a9fb",
   "metadata": {
    "papermill": {
     "duration": 0.027753,
     "end_time": "2023-12-26T10:55:33.251810",
     "exception": false,
     "start_time": "2023-12-26T10:55:33.224057",
     "status": "completed"
    },
    "tags": []
   },
   "source": [
    "## Simpan Model XGB"
   ]
  },
  {
   "cell_type": "code",
   "execution_count": 46,
   "id": "99cf88c3",
   "metadata": {
    "execution": {
     "iopub.execute_input": "2023-12-26T10:55:33.309612Z",
     "iopub.status.busy": "2023-12-26T10:55:33.308810Z",
     "iopub.status.idle": "2023-12-26T10:55:33.552906Z",
     "shell.execute_reply": "2023-12-26T10:55:33.551248Z"
    },
    "papermill": {
     "duration": 0.276793,
     "end_time": "2023-12-26T10:55:33.556241",
     "exception": false,
     "start_time": "2023-12-26T10:55:33.279448",
     "status": "completed"
    },
    "tags": []
   },
   "outputs": [],
   "source": [
    "import pickle\n",
    "# Simpan model ke file menggunakan pickle\n",
    "with open('model_xgb.pkl', 'wb') as file:\n",
    "    pickle.dump(model_XGB, file)"
   ]
  },
  {
   "cell_type": "code",
   "execution_count": 47,
   "id": "53406d9c",
   "metadata": {
    "execution": {
     "iopub.execute_input": "2023-12-26T10:55:33.615334Z",
     "iopub.status.busy": "2023-12-26T10:55:33.614757Z",
     "iopub.status.idle": "2023-12-26T10:55:33.622402Z",
     "shell.execute_reply": "2023-12-26T10:55:33.621137Z"
    },
    "papermill": {
     "duration": 0.039557,
     "end_time": "2023-12-26T10:55:33.625063",
     "exception": false,
     "start_time": "2023-12-26T10:55:33.585506",
     "status": "completed"
    },
    "tags": []
   },
   "outputs": [],
   "source": [
    "def create_new_w2v(review,model):\n",
    "    '''This function creates the w2v embeddings for the cleaned reviews passed'''\n",
    "    w2v_vector =[]\n",
    "    vector = np.zeros(300)\n",
    "    for word in review.split():\n",
    "        if word in model.wv.key_to_index:\n",
    "            vector += model.wv[word]\n",
    "    \n",
    "    w2v_vector.append(vector)\n",
    "    w2v_vector = np.array(w2v_vector)\n",
    "    return w2v_vector"
   ]
  },
  {
   "cell_type": "code",
   "execution_count": 48,
   "id": "6b1121b1",
   "metadata": {
    "execution": {
     "iopub.execute_input": "2023-12-26T10:55:33.692400Z",
     "iopub.status.busy": "2023-12-26T10:55:33.691478Z",
     "iopub.status.idle": "2023-12-26T10:55:34.546959Z",
     "shell.execute_reply": "2023-12-26T10:55:34.545598Z"
    },
    "papermill": {
     "duration": 0.895928,
     "end_time": "2023-12-26T10:55:34.549864",
     "exception": false,
     "start_time": "2023-12-26T10:55:33.653936",
     "status": "completed"
    },
    "tags": []
   },
   "outputs": [
    {
     "data": {
      "text/plain": [
       "0"
      ]
     },
     "execution_count": 48,
     "metadata": {},
     "output_type": "execute_result"
    }
   ],
   "source": [
    "import nltk\n",
    "\n",
    "model_W2V = Word2Vec.load('word2vec.bin')\n",
    "with open('model_xgb.pkl', 'rb') as file:\n",
    "    model_XGB = pickle.load(file)\n",
    "    \n",
    "def sentiment_predictor(input):\n",
    "    input = nlp_preprocessing(input)\n",
    "    transformed_input = create_new_w2v(input,model_W2V)\n",
    "    prediction = model_XGB.predict(transformed_input)\n",
    "    return prediction[0]\n",
    "\n",
    "review = \"It has no side effect, I take it in combination of Bystolic 5 Mg and Fish Oil\"\n",
    "# review = \"I started taking Apri about 7 months ago. My breats got noticeably larger within the first few weeks and I gained about 10 pounds, but I&#039;m a thin girl anyway so I gladly take on the extra few pounds and curves. I got prescribed this birth control because of my ovarian cysts and since I have not had any problems with them. They&#039;ve been unnoticeable and my cramps don&#039;t even exist anymore. I love Apri and it&#039;s affordable. Just what I need in this economic clash.\"\n",
    "sentiment_predictor(review)"
   ]
  },
  {
   "cell_type": "code",
   "execution_count": 49,
   "id": "8e742104",
   "metadata": {
    "execution": {
     "iopub.execute_input": "2023-12-26T10:55:34.610218Z",
     "iopub.status.busy": "2023-12-26T10:55:34.609723Z",
     "iopub.status.idle": "2023-12-26T10:55:34.614829Z",
     "shell.execute_reply": "2023-12-26T10:55:34.613677Z"
    },
    "papermill": {
     "duration": 0.037394,
     "end_time": "2023-12-26T10:55:34.617369",
     "exception": false,
     "start_time": "2023-12-26T10:55:34.579975",
     "status": "completed"
    },
    "tags": []
   },
   "outputs": [],
   "source": [
    "#import pickle\n",
    "## Load model dari file\n",
    "# with open('model_xgb.pkl', 'rb') as file:\n",
    "#     model_XGB = pickle.load(file)"
   ]
  },
  {
   "cell_type": "markdown",
   "id": "8779aa99",
   "metadata": {
    "papermill": {
     "duration": 0.027419,
     "end_time": "2023-12-26T10:55:34.673232",
     "exception": false,
     "start_time": "2023-12-26T10:55:34.645813",
     "status": "completed"
    },
    "tags": []
   },
   "source": [
    "## Recommendation"
   ]
  },
  {
   "cell_type": "code",
   "execution_count": 50,
   "id": "5c8b8d2d",
   "metadata": {
    "execution": {
     "iopub.execute_input": "2023-12-26T10:55:34.733714Z",
     "iopub.status.busy": "2023-12-26T10:55:34.732176Z",
     "iopub.status.idle": "2023-12-26T10:55:34.738975Z",
     "shell.execute_reply": "2023-12-26T10:55:34.737968Z"
    },
    "papermill": {
     "duration": 0.039725,
     "end_time": "2023-12-26T10:55:34.741410",
     "exception": false,
     "start_time": "2023-12-26T10:55:34.701685",
     "status": "completed"
    },
    "tags": []
   },
   "outputs": [],
   "source": [
    "def userful_count(data,feature):\n",
    "    max_value = data[feature].max()\n",
    "    min_value = data[feature].min()\n",
    "    data[feature] = (data[feature] - min_value) / (max_value - min_value)\n",
    "    return data"
   ]
  },
  {
   "cell_type": "code",
   "execution_count": 51,
   "id": "fb7337ac",
   "metadata": {
    "execution": {
     "iopub.execute_input": "2023-12-26T10:55:34.801149Z",
     "iopub.status.busy": "2023-12-26T10:55:34.799710Z",
     "iopub.status.idle": "2023-12-26T10:55:37.016552Z",
     "shell.execute_reply": "2023-12-26T10:55:37.014979Z"
    },
    "papermill": {
     "duration": 2.249539,
     "end_time": "2023-12-26T10:55:37.019423",
     "exception": false,
     "start_time": "2023-12-26T10:55:34.769884",
     "status": "completed"
    },
    "tags": []
   },
   "outputs": [
    {
     "data": {
      "text/plain": [
       "202783"
      ]
     },
     "execution_count": 51,
     "metadata": {},
     "output_type": "execute_result"
    }
   ],
   "source": [
    "data =  pd.read_csv('final_data.csv')\n",
    "len(data)"
   ]
  },
  {
   "cell_type": "code",
   "execution_count": 52,
   "id": "69285b05",
   "metadata": {
    "execution": {
     "iopub.execute_input": "2023-12-26T10:55:37.078962Z",
     "iopub.status.busy": "2023-12-26T10:55:37.078501Z",
     "iopub.status.idle": "2023-12-26T10:55:37.106539Z",
     "shell.execute_reply": "2023-12-26T10:55:37.105217Z"
    },
    "papermill": {
     "duration": 0.060541,
     "end_time": "2023-12-26T10:55:37.109389",
     "exception": false,
     "start_time": "2023-12-26T10:55:37.048848",
     "status": "completed"
    },
    "tags": []
   },
   "outputs": [
    {
     "data": {
      "text/html": [
       "<div>\n",
       "<style scoped>\n",
       "    .dataframe tbody tr th:only-of-type {\n",
       "        vertical-align: middle;\n",
       "    }\n",
       "\n",
       "    .dataframe tbody tr th {\n",
       "        vertical-align: top;\n",
       "    }\n",
       "\n",
       "    .dataframe thead th {\n",
       "        text-align: right;\n",
       "    }\n",
       "</style>\n",
       "<table border=\"1\" class=\"dataframe\">\n",
       "  <thead>\n",
       "    <tr style=\"text-align: right;\">\n",
       "      <th></th>\n",
       "      <th>uniqueID</th>\n",
       "      <th>drugName</th>\n",
       "      <th>condition</th>\n",
       "      <th>review</th>\n",
       "      <th>rating</th>\n",
       "      <th>date</th>\n",
       "      <th>usefulCount</th>\n",
       "      <th>clean_review</th>\n",
       "      <th>skor_sentimen</th>\n",
       "      <th>sentimen</th>\n",
       "      <th>recommendation_score</th>\n",
       "    </tr>\n",
       "  </thead>\n",
       "  <tbody>\n",
       "    <tr>\n",
       "      <th>0</th>\n",
       "      <td>206461</td>\n",
       "      <td>valsartan</td>\n",
       "      <td>left ventricular dysfunction</td>\n",
       "      <td>\"It has no side effect, I take it in combinati...</td>\n",
       "      <td>9</td>\n",
       "      <td>20-May-12</td>\n",
       "      <td>0.020914</td>\n",
       "      <td>no side effect take combin bystol mg fish oil</td>\n",
       "      <td>-0.2960</td>\n",
       "      <td>0</td>\n",
       "      <td>0.000000</td>\n",
       "    </tr>\n",
       "    <tr>\n",
       "      <th>1</th>\n",
       "      <td>95260</td>\n",
       "      <td>guanfacine</td>\n",
       "      <td>adhd</td>\n",
       "      <td>\"My son is halfway through his fourth week of ...</td>\n",
       "      <td>8</td>\n",
       "      <td>27-Apr-10</td>\n",
       "      <td>0.148722</td>\n",
       "      <td>son halfway fourth week intuniv becam concern ...</td>\n",
       "      <td>0.6929</td>\n",
       "      <td>1</td>\n",
       "      <td>0.148722</td>\n",
       "    </tr>\n",
       "    <tr>\n",
       "      <th>2</th>\n",
       "      <td>92703</td>\n",
       "      <td>lybrel</td>\n",
       "      <td>birth control</td>\n",
       "      <td>\"I used to take another oral contraceptive, wh...</td>\n",
       "      <td>5</td>\n",
       "      <td>14-Dec-09</td>\n",
       "      <td>0.013168</td>\n",
       "      <td>use take anoth oral contracept pill cycl happi...</td>\n",
       "      <td>0.2732</td>\n",
       "      <td>1</td>\n",
       "      <td>0.013168</td>\n",
       "    </tr>\n",
       "    <tr>\n",
       "      <th>3</th>\n",
       "      <td>138000</td>\n",
       "      <td>ortho evra</td>\n",
       "      <td>birth control</td>\n",
       "      <td>\"This is my first time using any form of birth...</td>\n",
       "      <td>8</td>\n",
       "      <td>3-Nov-15</td>\n",
       "      <td>0.007746</td>\n",
       "      <td>first time use form birth control glad went pa...</td>\n",
       "      <td>0.1027</td>\n",
       "      <td>1</td>\n",
       "      <td>0.007746</td>\n",
       "    </tr>\n",
       "    <tr>\n",
       "      <th>4</th>\n",
       "      <td>35696</td>\n",
       "      <td>buprenorphine / naloxone</td>\n",
       "      <td>opiate dependence</td>\n",
       "      <td>\"Suboxone has completely turned my life around...</td>\n",
       "      <td>9</td>\n",
       "      <td>27-Nov-16</td>\n",
       "      <td>0.028660</td>\n",
       "      <td>suboxon complet turn life around feel healthie...</td>\n",
       "      <td>0.8934</td>\n",
       "      <td>1</td>\n",
       "      <td>0.028660</td>\n",
       "    </tr>\n",
       "    <tr>\n",
       "      <th>5</th>\n",
       "      <td>155963</td>\n",
       "      <td>cialis</td>\n",
       "      <td>benign prostatic hyperplasia</td>\n",
       "      <td>\"2nd day on 5mg started to work with rock hard...</td>\n",
       "      <td>2</td>\n",
       "      <td>28-Nov-15</td>\n",
       "      <td>0.033308</td>\n",
       "      <td>nd day mg start work rock hard erect howev exp...</td>\n",
       "      <td>-0.1531</td>\n",
       "      <td>0</td>\n",
       "      <td>0.000000</td>\n",
       "    </tr>\n",
       "    <tr>\n",
       "      <th>6</th>\n",
       "      <td>102654</td>\n",
       "      <td>aripiprazole</td>\n",
       "      <td>bipolar disorde</td>\n",
       "      <td>\"Abilify changed my life. There is hope. I was...</td>\n",
       "      <td>10</td>\n",
       "      <td>14-Mar-15</td>\n",
       "      <td>0.024787</td>\n",
       "      <td>abilifi chang life hope zoloft clonidin first ...</td>\n",
       "      <td>-0.8442</td>\n",
       "      <td>0</td>\n",
       "      <td>0.000000</td>\n",
       "    </tr>\n",
       "    <tr>\n",
       "      <th>7</th>\n",
       "      <td>74811</td>\n",
       "      <td>keppra</td>\n",
       "      <td>epilepsy</td>\n",
       "      <td>\" I Ve had  nothing but problems with the Kepp...</td>\n",
       "      <td>1</td>\n",
       "      <td>9-Aug-16</td>\n",
       "      <td>0.008521</td>\n",
       "      <td>noth problem keppera constant shake arm amp le...</td>\n",
       "      <td>-0.6808</td>\n",
       "      <td>0</td>\n",
       "      <td>0.000000</td>\n",
       "    </tr>\n",
       "    <tr>\n",
       "      <th>8</th>\n",
       "      <td>48928</td>\n",
       "      <td>ethinyl estradiol / levonorgestrel</td>\n",
       "      <td>birth control</td>\n",
       "      <td>\"I had been on the pill for many years. When m...</td>\n",
       "      <td>8</td>\n",
       "      <td>8-Dec-16</td>\n",
       "      <td>0.000775</td>\n",
       "      <td>pill mani year doctor chang rx chateal effect ...</td>\n",
       "      <td>0.8481</td>\n",
       "      <td>1</td>\n",
       "      <td>0.000775</td>\n",
       "    </tr>\n",
       "    <tr>\n",
       "      <th>9</th>\n",
       "      <td>29607</td>\n",
       "      <td>topiramate</td>\n",
       "      <td>migraine prevention</td>\n",
       "      <td>\"I have been on this medication almost two wee...</td>\n",
       "      <td>9</td>\n",
       "      <td>1-Jan-15</td>\n",
       "      <td>0.014717</td>\n",
       "      <td>medic almost two week start mg work way mg cur...</td>\n",
       "      <td>0.1280</td>\n",
       "      <td>1</td>\n",
       "      <td>0.014717</td>\n",
       "    </tr>\n",
       "  </tbody>\n",
       "</table>\n",
       "</div>"
      ],
      "text/plain": [
       "   uniqueID                            drugName                     condition  \\\n",
       "0    206461                           valsartan  left ventricular dysfunction   \n",
       "1     95260                          guanfacine                          adhd   \n",
       "2     92703                              lybrel                 birth control   \n",
       "3    138000                          ortho evra                 birth control   \n",
       "4     35696            buprenorphine / naloxone             opiate dependence   \n",
       "5    155963                              cialis  benign prostatic hyperplasia   \n",
       "6    102654                        aripiprazole               bipolar disorde   \n",
       "7     74811                              keppra                      epilepsy   \n",
       "8     48928  ethinyl estradiol / levonorgestrel                 birth control   \n",
       "9     29607                          topiramate           migraine prevention   \n",
       "\n",
       "                                              review  rating       date  \\\n",
       "0  \"It has no side effect, I take it in combinati...       9  20-May-12   \n",
       "1  \"My son is halfway through his fourth week of ...       8  27-Apr-10   \n",
       "2  \"I used to take another oral contraceptive, wh...       5  14-Dec-09   \n",
       "3  \"This is my first time using any form of birth...       8   3-Nov-15   \n",
       "4  \"Suboxone has completely turned my life around...       9  27-Nov-16   \n",
       "5  \"2nd day on 5mg started to work with rock hard...       2  28-Nov-15   \n",
       "6  \"Abilify changed my life. There is hope. I was...      10  14-Mar-15   \n",
       "7  \" I Ve had  nothing but problems with the Kepp...       1   9-Aug-16   \n",
       "8  \"I had been on the pill for many years. When m...       8   8-Dec-16   \n",
       "9  \"I have been on this medication almost two wee...       9   1-Jan-15   \n",
       "\n",
       "   usefulCount                                       clean_review  \\\n",
       "0     0.020914     no side effect take combin bystol mg fish oil    \n",
       "1     0.148722  son halfway fourth week intuniv becam concern ...   \n",
       "2     0.013168  use take anoth oral contracept pill cycl happi...   \n",
       "3     0.007746  first time use form birth control glad went pa...   \n",
       "4     0.028660  suboxon complet turn life around feel healthie...   \n",
       "5     0.033308  nd day mg start work rock hard erect howev exp...   \n",
       "6     0.024787  abilifi chang life hope zoloft clonidin first ...   \n",
       "7     0.008521  noth problem keppera constant shake arm amp le...   \n",
       "8     0.000775  pill mani year doctor chang rx chateal effect ...   \n",
       "9     0.014717  medic almost two week start mg work way mg cur...   \n",
       "\n",
       "   skor_sentimen  sentimen  recommendation_score  \n",
       "0        -0.2960         0              0.000000  \n",
       "1         0.6929         1              0.148722  \n",
       "2         0.2732         1              0.013168  \n",
       "3         0.1027         1              0.007746  \n",
       "4         0.8934         1              0.028660  \n",
       "5        -0.1531         0              0.000000  \n",
       "6        -0.8442         0              0.000000  \n",
       "7        -0.6808         0              0.000000  \n",
       "8         0.8481         1              0.000775  \n",
       "9         0.1280         1              0.014717  "
      ]
     },
     "execution_count": 52,
     "metadata": {},
     "output_type": "execute_result"
    }
   ],
   "source": [
    "data = userful_count(data,'usefulCount')\n",
    "data['recommendation_score'] = data['usefulCount'] * data['sentimen']\n",
    "\n",
    "data.head(10)"
   ]
  },
  {
   "cell_type": "code",
   "execution_count": 53,
   "id": "c2797fcf",
   "metadata": {
    "execution": {
     "iopub.execute_input": "2023-12-26T10:55:37.168824Z",
     "iopub.status.busy": "2023-12-26T10:55:37.168273Z",
     "iopub.status.idle": "2023-12-26T10:55:46.565441Z",
     "shell.execute_reply": "2023-12-26T10:55:46.564154Z"
    },
    "papermill": {
     "duration": 9.431119,
     "end_time": "2023-12-26T10:55:46.568600",
     "exception": false,
     "start_time": "2023-12-26T10:55:37.137481",
     "status": "completed"
    },
    "tags": []
   },
   "outputs": [],
   "source": [
    "# Save data dengan skor rekomendasi\n",
    "data.to_csv('recommendation_data.csv',index=False)"
   ]
  },
  {
   "cell_type": "code",
   "execution_count": 54,
   "id": "d5a15894",
   "metadata": {
    "execution": {
     "iopub.execute_input": "2023-12-26T10:55:46.627930Z",
     "iopub.status.busy": "2023-12-26T10:55:46.627463Z",
     "iopub.status.idle": "2023-12-26T10:55:46.637086Z",
     "shell.execute_reply": "2023-12-26T10:55:46.635858Z"
    },
    "papermill": {
     "duration": 0.042461,
     "end_time": "2023-12-26T10:55:46.639752",
     "exception": false,
     "start_time": "2023-12-26T10:55:46.597291",
     "status": "completed"
    },
    "tags": []
   },
   "outputs": [],
   "source": [
    "def recommend(condition):\n",
    "    data = pd.read_csv('recommendation_data.csv')\n",
    "    select = data[data['condition']==condition]\n",
    "    drug_count = select['drugName'].nunique()\n",
    "    select['recommendation_score'] = select['recommendation_score']/drug_count\n",
    "    group_drug = select.groupby(['drugName']).agg({'recommendation_score':['sum']})\n",
    "    group_drug = group_drug[('recommendation_score', 'sum')].sort_values(ascending=False)\n",
    "    drug_score = dict(group_drug)\n",
    "    if len(drug_score)>5:\n",
    "        print('5 Obat Terbaik untuk kondisi ini : {0}'.format(condition.upper()))\n",
    "        for i in list(drug_score.keys())[0:5]:\n",
    "            print('->',i)\n",
    "\n",
    "    else:\n",
    "        print('Obat Top untuk kondisi ini : {0}'.format(condition.upper()))\n",
    "        for i in drug_score.keys():\n",
    "            print('->',i)"
   ]
  },
  {
   "cell_type": "code",
   "execution_count": 55,
   "id": "80b6e70d",
   "metadata": {
    "execution": {
     "iopub.execute_input": "2023-12-26T10:55:46.698823Z",
     "iopub.status.busy": "2023-12-26T10:55:46.698367Z",
     "iopub.status.idle": "2023-12-26T10:55:49.145149Z",
     "shell.execute_reply": "2023-12-26T10:55:49.143875Z"
    },
    "papermill": {
     "duration": 2.480031,
     "end_time": "2023-12-26T10:55:49.147992",
     "exception": false,
     "start_time": "2023-12-26T10:55:46.667961",
     "status": "completed"
    },
    "tags": []
   },
   "outputs": [
    {
     "name": "stdout",
     "output_type": "stream",
     "text": [
      "5 Obat Terbaik untuk kondisi ini : ADHD\n",
      "-> lisdexamfetamine\n",
      "-> vyvanse\n",
      "-> methylphenidate\n",
      "-> amphetamine / dextroamphetamine\n",
      "-> adderall\n"
     ]
    }
   ],
   "source": [
    "recommend('adhd')"
   ]
  }
 ],
 "metadata": {
  "kaggle": {
   "accelerator": "none",
   "dataSources": [
    {
     "datasetId": 76158,
     "sourceId": 171475,
     "sourceType": "datasetVersion"
    },
    {
     "datasetId": 4219781,
     "sourceId": 7278186,
     "sourceType": "datasetVersion"
    }
   ],
   "dockerImageVersionId": 30626,
   "isGpuEnabled": false,
   "isInternetEnabled": true,
   "language": "python",
   "sourceType": "notebook"
  },
  "kernelspec": {
   "display_name": "Python 3",
   "language": "python",
   "name": "python3"
  },
  "language_info": {
   "codemirror_mode": {
    "name": "ipython",
    "version": 3
   },
   "file_extension": ".py",
   "mimetype": "text/x-python",
   "name": "python",
   "nbconvert_exporter": "python",
   "pygments_lexer": "ipython3",
   "version": "3.10.12"
  },
  "papermill": {
   "default_parameters": {},
   "duration": 2669.298401,
   "end_time": "2023-12-26T10:55:51.907859",
   "environment_variables": {},
   "exception": null,
   "input_path": "__notebook__.ipynb",
   "output_path": "__notebook__.ipynb",
   "parameters": {},
   "start_time": "2023-12-26T10:11:22.609458",
   "version": "2.4.0"
  }
 },
 "nbformat": 4,
 "nbformat_minor": 5
}
